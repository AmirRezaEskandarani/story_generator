{
  "cells": [
    {
      "cell_type": "markdown",
      "metadata": {},
      "source": [
        "# Story Generator"
      ]
    },
    {
      "cell_type": "markdown",
      "metadata": {
        "id": "oI7l16N04Szk",
        "papermill": {
          "duration": 0.010167,
          "end_time": "2020-08-12T19:42:01.801082",
          "exception": false,
          "start_time": "2020-08-12T19:42:01.790915",
          "status": "completed"
        },
        "tags": []
      },
      "source": [
        "\n",
        "##### This is a story generation project using transformers , I used GPT2 model and used facebook dataset to train the model .\n",
        "##### In this project our data has to parts one prat is prompts and the other one is story body .\n",
        "\n"
      ]
    },
    {
      "cell_type": "markdown",
      "metadata": {},
      "source": [
        "##  Pacakges and frameworks"
      ]
    },
    {
      "cell_type": "code",
      "execution_count": null,
      "metadata": {
        "_cell_guid": "b1076dfc-b9ad-4769-8c92-a6c4dae69d19",
        "_uuid": "8f2839f25d086af736a60e9eeb907d3b93b6e0e5",
        "execution": {
          "iopub.execute_input": "2020-08-12T19:42:01.823642Z",
          "iopub.status.busy": "2020-08-12T19:42:01.822985Z",
          "iopub.status.idle": "2020-08-12T19:42:03.191882Z",
          "shell.execute_reply": "2020-08-12T19:42:03.190700Z"
        },
        "id": "vIabB7cB4Szs",
        "papermill": {
          "duration": 1.382256,
          "end_time": "2020-08-12T19:42:03.192023",
          "exception": false,
          "start_time": "2020-08-12T19:42:01.809767",
          "status": "completed"
        },
        "tags": []
      },
      "outputs": [],
      "source": [
        "import numpy as np \n",
        "import pandas as pd \n",
        "import torch\n",
        "import logging\n",
        "from tqdm import tqdm\n",
        "import math\n",
        "import argparse\n",
        "import os"
      ]
    },
    {
      "cell_type": "code",
      "execution_count": null,
      "metadata": {
        "colab": {
          "base_uri": "https://localhost:8080/"
        },
        "execution": {
          "iopub.execute_input": "2020-08-12T19:42:03.237516Z",
          "iopub.status.busy": "2020-08-12T19:42:03.236639Z",
          "iopub.status.idle": "2020-08-12T19:42:31.258874Z",
          "shell.execute_reply": "2020-08-12T19:42:31.258114Z"
        },
        "id": "HLtlXRR74Szv",
        "outputId": "41ed6c91-963f-4532-f468-0d2623f96f30",
        "papermill": {
          "duration": 28.038345,
          "end_time": "2020-08-12T19:42:31.259018",
          "exception": false,
          "start_time": "2020-08-12T19:42:03.220673",
          "status": "completed"
        },
        "tags": []
      },
      "outputs": [
        {
          "name": "stdout",
          "output_type": "stream",
          "text": [
            "Cloning into 'transformers'...\n",
            "remote: Enumerating objects: 158376, done.\u001b[K\n",
            "remote: Counting objects: 100% (3408/3408), done.\u001b[K\n",
            "remote: Compressing objects: 100% (1101/1101), done.\u001b[K\n",
            "remote: Total 158376 (delta 2117), reused 3016 (delta 1857), pack-reused 154968\u001b[K\n",
            "Receiving objects: 100% (158376/158376), 159.16 MiB | 22.33 MiB/s, done.\n",
            "Resolving deltas: 100% (118362/118362), done.\n",
            "Processing ./transformers\n",
            "  Installing build dependencies ... \u001b[?25l\u001b[?25hdone\n",
            "  Getting requirements to build wheel ... \u001b[?25l\u001b[?25hdone\n",
            "  Preparing metadata (pyproject.toml) ... \u001b[?25l\u001b[?25hdone\n",
            "Requirement already satisfied: filelock in /usr/local/lib/python3.10/dist-packages (from transformers==4.33.0.dev0) (3.12.2)\n",
            "Collecting huggingface-hub<1.0,>=0.15.1 (from transformers==4.33.0.dev0)\n",
            "  Downloading huggingface_hub-0.16.4-py3-none-any.whl (268 kB)\n",
            "\u001b[2K     \u001b[90m━━━━━━━━━━━━━━━━━━━━━━━━━━━━━━━━━━━━━━━\u001b[0m \u001b[32m268.8/268.8 kB\u001b[0m \u001b[31m4.6 MB/s\u001b[0m eta \u001b[36m0:00:00\u001b[0m\n",
            "\u001b[?25hRequirement already satisfied: numpy>=1.17 in /usr/local/lib/python3.10/dist-packages (from transformers==4.33.0.dev0) (1.23.5)\n",
            "Requirement already satisfied: packaging>=20.0 in /usr/local/lib/python3.10/dist-packages (from transformers==4.33.0.dev0) (23.1)\n",
            "Requirement already satisfied: pyyaml>=5.1 in /usr/local/lib/python3.10/dist-packages (from transformers==4.33.0.dev0) (6.0.1)\n",
            "Requirement already satisfied: regex!=2019.12.17 in /usr/local/lib/python3.10/dist-packages (from transformers==4.33.0.dev0) (2023.6.3)\n",
            "Requirement already satisfied: requests in /usr/local/lib/python3.10/dist-packages (from transformers==4.33.0.dev0) (2.31.0)\n",
            "Collecting tokenizers!=0.11.3,<0.14,>=0.11.1 (from transformers==4.33.0.dev0)\n",
            "  Downloading tokenizers-0.13.3-cp310-cp310-manylinux_2_17_x86_64.manylinux2014_x86_64.whl (7.8 MB)\n",
            "\u001b[2K     \u001b[90m━━━━━━━━━━━━━━━━━━━━━━━━━━━━━━━━━━━━━━━━\u001b[0m \u001b[32m7.8/7.8 MB\u001b[0m \u001b[31m20.7 MB/s\u001b[0m eta \u001b[36m0:00:00\u001b[0m\n",
            "\u001b[?25hCollecting safetensors>=0.3.1 (from transformers==4.33.0.dev0)\n",
            "  Downloading safetensors-0.3.3-cp310-cp310-manylinux_2_17_x86_64.manylinux2014_x86_64.whl (1.3 MB)\n",
            "\u001b[2K     \u001b[90m━━━━━━━━━━━━━━━━━━━━━━━━━━━━━━━━━━━━━━━━\u001b[0m \u001b[32m1.3/1.3 MB\u001b[0m \u001b[31m35.9 MB/s\u001b[0m eta \u001b[36m0:00:00\u001b[0m\n",
            "\u001b[?25hRequirement already satisfied: tqdm>=4.27 in /usr/local/lib/python3.10/dist-packages (from transformers==4.33.0.dev0) (4.66.1)\n",
            "Requirement already satisfied: fsspec in /usr/local/lib/python3.10/dist-packages (from huggingface-hub<1.0,>=0.15.1->transformers==4.33.0.dev0) (2023.6.0)\n",
            "Requirement already satisfied: typing-extensions>=3.7.4.3 in /usr/local/lib/python3.10/dist-packages (from huggingface-hub<1.0,>=0.15.1->transformers==4.33.0.dev0) (4.7.1)\n",
            "Requirement already satisfied: charset-normalizer<4,>=2 in /usr/local/lib/python3.10/dist-packages (from requests->transformers==4.33.0.dev0) (3.2.0)\n",
            "Requirement already satisfied: idna<4,>=2.5 in /usr/local/lib/python3.10/dist-packages (from requests->transformers==4.33.0.dev0) (3.4)\n",
            "Requirement already satisfied: urllib3<3,>=1.21.1 in /usr/local/lib/python3.10/dist-packages (from requests->transformers==4.33.0.dev0) (2.0.4)\n",
            "Requirement already satisfied: certifi>=2017.4.17 in /usr/local/lib/python3.10/dist-packages (from requests->transformers==4.33.0.dev0) (2023.7.22)\n",
            "Building wheels for collected packages: transformers\n",
            "  Building wheel for transformers (pyproject.toml) ... \u001b[?25l\u001b[?25hdone\n",
            "  Created wheel for transformers: filename=transformers-4.33.0.dev0-py3-none-any.whl size=7604450 sha256=5cc228aa8308fc87f9f7833701f806e1e3bedcd9ccb6d5e47356c7419bb5efa3\n",
            "  Stored in directory: /tmp/pip-ephem-wheel-cache-q3_9jgu8/wheels/7c/35/80/e946b22a081210c6642e607ed65b2a5b9a4d9259695ee2caf5\n",
            "Successfully built transformers\n",
            "Installing collected packages: tokenizers, safetensors, huggingface-hub, transformers\n",
            "Successfully installed huggingface-hub-0.16.4 safetensors-0.3.3 tokenizers-0.13.3 transformers-4.33.0.dev0\n"
          ]
        }
      ],
      "source": [
        "!git clone https://github.com/huggingface/transformers\n",
        "!pip install transformers/\n",
        "from transformers import GPT2Tokenizer, GPT2LMHeadModel\n",
        "from transformers.optimization import AdamW, get_linear_schedule_with_warmup"
      ]
    },
    {
      "cell_type": "code",
      "execution_count": null,
      "metadata": {
        "colab": {
          "base_uri": "https://localhost:8080/"
        },
        "id": "vQuTeInG5Lap",
        "outputId": "309bdae4-e571-477e-cd10-1f8f0c65df52"
      },
      "outputs": [
        {
          "name": "stdout",
          "output_type": "stream",
          "text": [
            "Mounted at /content/drive\n"
          ]
        }
      ],
      "source": [
        "from google.colab import drive\n",
        "drive.mount('/content/drive')"
      ]
    },
    {
      "cell_type": "markdown",
      "metadata": {
        "id": "gNTIF0Sp4Szy",
        "papermill": {
          "duration": 0.014938,
          "end_time": "2020-08-12T19:42:31.290780",
          "exception": false,
          "start_time": "2020-08-12T19:42:31.275842",
          "status": "completed"
        },
        "tags": []
      },
      "source": [
        "##  Arguments\n",
        "##### use this arguments in all parts of the code to avoid code repetition"
      ]
    },
    {
      "cell_type": "code",
      "execution_count": null,
      "metadata": {
        "execution": {
          "iopub.execute_input": "2020-08-12T19:42:31.332320Z",
          "iopub.status.busy": "2020-08-12T19:42:31.331668Z",
          "iopub.status.idle": "2020-08-12T19:42:31.335652Z",
          "shell.execute_reply": "2020-08-12T19:42:31.336169Z"
        },
        "id": "ziShP0av4Szz",
        "papermill": {
          "duration": 0.030676,
          "end_time": "2020-08-12T19:42:31.336303",
          "exception": false,
          "start_time": "2020-08-12T19:42:31.305627",
          "status": "completed"
        },
        "tags": []
      },
      "outputs": [],
      "source": [
        "parser = argparse.ArgumentParser()\n",
        "parser.add_argument('--seed', type=int, default=88888)\n",
        "parser.add_argument(\"--model_name\", default=\"gpt2\", type=str)\n",
        "parser.add_argument(\"--max_seq_length\", default=512, type=int)\n",
        "parser.add_argument(\"--train_batch_size\", default=4, type=int)\n",
        "parser.add_argument(\"--valid_batch_size\", default=4, type=int)\n",
        "parser.add_argument(\"--num_train_epochs\", default=1, type=int)\n",
        "parser.add_argument(\"--warmup\", default=0.1, type=float)\n",
        "parser.add_argument(\"--learning_rate\", default=5e-5, type=float)\n",
        "parser.add_argument(\"--input_text_path\", default='/content/drive/MyDrive/story generator/data/', type=str)\n",
        "args, _ = parser.parse_known_args()"
      ]
    },
    {
      "cell_type": "markdown",
      "metadata": {
        "id": "Ijo1RtKG4Szz",
        "papermill": {
          "duration": 0.014525,
          "end_time": "2020-08-12T19:42:31.365844",
          "exception": false,
          "start_time": "2020-08-12T19:42:31.351319",
          "status": "completed"
        },
        "tags": []
      },
      "source": [
        "\n",
        "##  Combine the prompt and story, do a little text clean\n",
        "\n",
        "In order to feed the prompt an story together to GPT-2, I combine the prompts and stories togeter.Thus every line in the combined file includes the prompt and it's corresponding story."
      ]
    },
    {
      "cell_type": "code",
      "execution_count": null,
      "metadata": {
        "execution": {
          "iopub.execute_input": "2020-08-12T19:42:31.411608Z",
          "iopub.status.busy": "2020-08-12T19:42:31.403412Z",
          "iopub.status.idle": "2020-08-12T19:42:34.962556Z",
          "shell.execute_reply": "2020-08-12T19:42:34.963070Z"
        },
        "id": "7jPFCH564Sz0",
        "papermill": {
          "duration": 3.582562,
          "end_time": "2020-08-12T19:42:34.963267",
          "exception": false,
          "start_time": "2020-08-12T19:42:31.380705",
          "status": "completed"
        },
        "tags": []
      },
      "outputs": [],
      "source": [
        "DATAPATH=args.input_text_path\n",
        "def combinetext(prompt, story):\n",
        "    fp=open(os.path.join(DATAPATH,prompt),encoding='utf8')\n",
        "    fs=open(os.path.join(DATAPATH,story),encoding='utf8')\n",
        "    prompts=fp.readlines()\n",
        "    stories=fs.readlines()\n",
        "    assert len(prompts)==len(stories)\n",
        "    combine=[]\n",
        "    for i in range(len(prompts)):\n",
        "        combine.append(prompts[i].rstrip()+' <sep> '+\" \".join(stories[i].split()[:300]))\n",
        "    return combine\n",
        "\n",
        "#do a littel text clean with punctuations\n",
        "def cleanpunctuation(s):\n",
        "    for p in '!,.:;?':\n",
        "        s=s.replace(' '+p,p)\n",
        "    s=s.replace(' '+'n\\'t','n\\'t')\n",
        "    s=s.replace(' '+'\\'s','\\'s')\n",
        "    s=s.replace(' '+'\\'re','\\'re')\n",
        "    s=s.replace(' '+'\\'ve','\\'ve')\n",
        "    s=s.replace(' '+'\\'ll','\\'ll')\n",
        "    s=s.replace(' '+'\\'am','\\'am')\n",
        "    s=s.replace(' '+'\\'m','\\'m')\n",
        "    s=s.replace(' '+'\\' m','\\'m')\n",
        "    s=s.replace(' '+'\\'m','\\'m')\n",
        "    s=s.replace(' '+'\\' ve','\\'ve')\n",
        "    s=s.replace(' '+'\\' s','\\'s')\n",
        "    s=s.replace('<newline>','\\n')\n",
        "    return s\n",
        "\n",
        "train_text=combinetext('valid.wp_source', 'valid.wp_target')\n",
        "train_text=list(map(cleanpunctuation,train_text))\n",
        "valid_text=combinetext('test.wp_source', 'test.wp_target')\n",
        "valid_text=list(map(cleanpunctuation,valid_text))"
      ]
    },
    {
      "cell_type": "markdown",
      "metadata": {
        "id": "LHJTkYoq4Sz1",
        "papermill": {
          "duration": 0.014561,
          "end_time": "2020-08-12T19:42:34.995136",
          "exception": false,
          "start_time": "2020-08-12T19:42:34.980575",
          "status": "completed"
        },
        "tags": []
      },
      "source": [
        "The below is an example of a prompt and story."
      ]
    },
    {
      "cell_type": "code",
      "execution_count": null,
      "metadata": {
        "colab": {
          "base_uri": "https://localhost:8080/",
          "height": 123
        },
        "execution": {
          "iopub.execute_input": "2020-08-12T19:42:35.033484Z",
          "iopub.status.busy": "2020-08-12T19:42:35.031608Z",
          "iopub.status.idle": "2020-08-12T19:42:35.036674Z",
          "shell.execute_reply": "2020-08-12T19:42:35.037146Z"
        },
        "id": "rQtFn6K34Sz1",
        "outputId": "244e1967-6361-4e46-de3b-3fb236f01ec0",
        "papermill": {
          "duration": 0.027198,
          "end_time": "2020-08-12T19:42:35.037306",
          "exception": false,
          "start_time": "2020-08-12T19:42:35.010108",
          "status": "completed"
        },
        "tags": []
      },
      "outputs": [
        {
          "data": {
            "application/vnd.google.colaboratory.intrinsic+json": {
              "type": "string"
            },
            "text/plain": [
              "\"[ WP ] Everyone in the world has magic with various levels of mastery over it. You are extremely powerful with almost no control so you find a demon that's very weak but extremely good at controlling his powers. <sep> `` Imagine you're in a field. '' Green extends in all directions. `` You're alone, the earth is flat, and the blue sky touches the horizon. '' Blue shoots from the ground, arcing overhead. `` The sun appears, tiny in the sky. '' There's a bright light, rays casting shadow behind me. `` What color is it? '' \\n \\n `` Yellow. '' It burns so brightly, winking playfully. \\n \\n `` Good. '' She licks her chapped lips, the sound distorting my tiny sun's light. `` Look ahead of you. There's a sheep. '' Something soft and downy wanders across the green, its shadow stretching far beyond the horizon. `` What color is it? '' \\n \\n My brows crease. `` Uh- '' \\n \\n `` What color is it? '' \\n \\n The green wavers. Baa baa black sheep, have you any wool? `` Uh. '' Mary had a little lamb, its fleece as white as snow. `` Um. '' The sheep wavers, cotton fuzz shifting from dark to bright as its shadows remain inky. \\n \\n `` What color is the sheep, Jess? '' \\n \\n Black and white race across downy fluff, one after the other, again and again. `` Um. '' I see the black sheep, blending into its shadow. `` Um. '' In the same blink of an eye, that sheep is white and contrasted against the verdant grass. The term verdant applies here because I'm in the countryside, you see.\""
            ]
          },
          "execution_count": 12,
          "metadata": {},
          "output_type": "execute_result"
        }
      ],
      "source": [
        "train_text[6]"
      ]
    },
    {
      "cell_type": "markdown",
      "metadata": {
        "id": "kbrpZ2ud4Sz2",
        "papermill": {
          "duration": 0.015028,
          "end_time": "2020-08-12T19:42:35.067857",
          "exception": false,
          "start_time": "2020-08-12T19:42:35.052829",
          "status": "completed"
        },
        "tags": []
      },
      "source": [
        "##  Tokenize and load to dataloader\n",
        "\n",
        "I used GPT-2 pretrained tokenizer. In order to let the sequences in the same batch have the same length, I set the max length of sequence as 512, and truncate the longer sequence and pad the shorter sequence. \n"
      ]
    },
    {
      "cell_type": "code",
      "execution_count": null,
      "metadata": {
        "colab": {
          "base_uri": "https://localhost:8080/",
          "height": 113,
          "referenced_widgets": [
            "5486e901d25846f1a455f885db628af2",
            "35323d19c90e40aa8aedca8b38913cdc",
            "f26ec9f6c97e439db0f1a25912d8f457",
            "1da1d69e7cec4d1e954aeac9cf6f5789",
            "df93f861f2a64a42bb5bf09e74a53bb2",
            "a1aeab8ed205430895f28473119f1aa4",
            "ddbe304e934641bf9153bc75183df2b3",
            "7ce03ed187a547718842c07f6a1c6f32",
            "805cb4580985485db3be0f7f8be48601",
            "b53f9cada6df428ea76ca4382a8976fa",
            "428f8adf37324baf84802eb82bc6a41e",
            "78e9e3b3ffd0485da198c40c33e43348",
            "aa577a443f2f40978fda5d3291e581fe",
            "837d873b807d472f9d1adadc3cb2079b",
            "e5d4f48581dd4215bffea6b39d520839",
            "c7418cd9ba4743bfb933d14e354c96e4",
            "caf5c0f80a094d5cbeb8bf59cd6b47cf",
            "d4828f13f2b84720bf823dc5515f9d24",
            "4ed502bbd697464bbd485b657281357b",
            "091ddea7a3014b64836d34c1a6bd4482",
            "85587337af844f6897dee144c8738915",
            "f6b635696ea14f6c9b619f9a86c75bc0",
            "3a1984a722944ae8adc6afbf0dcf7d9a",
            "6a1b653ec9d943f497ed8d559ac2aa16",
            "a494928203424bb6a477b182bc3ad4d3",
            "e9e0d13933e64262bb3b0f70d27ba2ba",
            "cc0a052592334bb0bf8721da9d775e40",
            "de39d1f3fb184acc9d5bda856a392699",
            "9caa58eb707749c49ec7eb2e079c1ee3",
            "3f942eaf7bcd4706a77975cb75574996",
            "f48fc15ac7b34cd5a851e430ebac2213",
            "ee6faffdd8bc431bacc0dba53b72e810",
            "d0c2c923c73440eb9a4d4a7f026855eb"
          ]
        },
        "execution": {
          "iopub.execute_input": "2020-08-12T19:42:35.104694Z",
          "iopub.status.busy": "2020-08-12T19:42:35.103810Z",
          "iopub.status.idle": "2020-08-12T19:43:53.972821Z",
          "shell.execute_reply": "2020-08-12T19:43:53.972080Z"
        },
        "id": "RSGDbIZm4Sz3",
        "outputId": "817f3472-4aca-4fa3-9f9f-f27cdf2ffd6f",
        "papermill": {
          "duration": 78.889259,
          "end_time": "2020-08-12T19:43:53.972963",
          "exception": false,
          "start_time": "2020-08-12T19:42:35.083704",
          "status": "completed"
        },
        "tags": []
      },
      "outputs": [
        {
          "data": {
            "application/vnd.jupyter.widget-view+json": {
              "model_id": "5486e901d25846f1a455f885db628af2",
              "version_major": 2,
              "version_minor": 0
            },
            "text/plain": [
              "Downloading (…)olve/main/vocab.json:   0%|          | 0.00/1.04M [00:00<?, ?B/s]"
            ]
          },
          "metadata": {},
          "output_type": "display_data"
        },
        {
          "data": {
            "application/vnd.jupyter.widget-view+json": {
              "model_id": "78e9e3b3ffd0485da198c40c33e43348",
              "version_major": 2,
              "version_minor": 0
            },
            "text/plain": [
              "Downloading (…)olve/main/merges.txt:   0%|          | 0.00/456k [00:00<?, ?B/s]"
            ]
          },
          "metadata": {},
          "output_type": "display_data"
        },
        {
          "data": {
            "application/vnd.jupyter.widget-view+json": {
              "model_id": "3a1984a722944ae8adc6afbf0dcf7d9a",
              "version_major": 2,
              "version_minor": 0
            },
            "text/plain": [
              "Downloading (…)lve/main/config.json:   0%|          | 0.00/665 [00:00<?, ?B/s]"
            ]
          },
          "metadata": {},
          "output_type": "display_data"
        }
      ],
      "source": [
        "tokenizer = GPT2Tokenizer.from_pretrained('gpt2')\n",
        "tokenizer.pad_token=tokenizer.eos_token\n",
        "\n",
        "inputs_train = tokenizer(train_text, padding=True,truncation=True,max_length=args.max_seq_length)\n",
        "inputs_valid=tokenizer(valid_text, padding=True,truncation=True,max_length=args.max_seq_length)"
      ]
    },
    {
      "cell_type": "code",
      "execution_count": null,
      "metadata": {
        "execution": {
          "iopub.execute_input": "2020-08-12T19:43:54.055484Z",
          "iopub.status.busy": "2020-08-12T19:43:54.054569Z",
          "iopub.status.idle": "2020-08-12T19:43:55.274634Z",
          "shell.execute_reply": "2020-08-12T19:43:55.273325Z"
        },
        "id": "mPHX4EfG4Sz3",
        "papermill": {
          "duration": 1.285062,
          "end_time": "2020-08-12T19:43:55.274771",
          "exception": false,
          "start_time": "2020-08-12T19:43:53.989709",
          "status": "completed"
        },
        "tags": []
      },
      "outputs": [],
      "source": [
        "def create_labels(inputs):\n",
        "    labels=[]\n",
        "    for ids,attention_mask in zip(inputs['input_ids'],inputs['attention_mask']):\n",
        "        label=ids.copy()\n",
        "        real_len=sum(attention_mask)\n",
        "        padding_len=len(attention_mask)-sum(attention_mask)\n",
        "        label[:]=label[:real_len]+[-100]*padding_len\n",
        "        labels.append(label)\n",
        "    inputs['labels']=labels\n",
        "\n",
        "create_labels(inputs_train)\n",
        "create_labels(inputs_valid)\n"
      ]
    },
    {
      "cell_type": "markdown",
      "metadata": {
        "id": "bzu8GdGr4Sz4",
        "papermill": {
          "duration": 0.015668,
          "end_time": "2020-08-12T19:43:55.306929",
          "exception": false,
          "start_time": "2020-08-12T19:43:55.291261",
          "status": "completed"
        },
        "tags": []
      },
      "source": [
        "An example of sequence of input_ids, attention_mask and labels."
      ]
    },
    {
      "cell_type": "code",
      "execution_count": null,
      "metadata": {
        "colab": {
          "base_uri": "https://localhost:8080/"
        },
        "execution": {
          "iopub.execute_input": "2020-08-12T19:43:55.347192Z",
          "iopub.status.busy": "2020-08-12T19:43:55.344396Z",
          "iopub.status.idle": "2020-08-12T19:43:55.350730Z",
          "shell.execute_reply": "2020-08-12T19:43:55.349838Z"
        },
        "id": "Vgugzq9t4Sz4",
        "outputId": "0e695726-ed47-4938-8187-37ea643ed9ab",
        "papermill": {
          "duration": 0.028157,
          "end_time": "2020-08-12T19:43:55.350891",
          "exception": false,
          "start_time": "2020-08-12T19:43:55.322734",
          "status": "completed"
        },
        "tags": []
      },
      "outputs": [
        {
          "name": "stdout",
          "output_type": "stream",
          "text": [
            "[58, 28993, 2361, 11075, 287, 262, 995, 468, 5536, 351, 2972, 2974, 286, 30677, 625, 340, 13, 921, 389, 4457, 3665, 351, 2048, 645, 1630, 523, 345, 1064, 257, 3222, 326, 338, 845, 4939, 475, 4457, 922, 379, 12755, 465, 5635, 13, 1279, 325, 79, 29, 7559, 18450, 345, 821, 287, 257, 2214, 13, 10148, 3469, 14582, 287, 477, 11678, 13, 7559, 921, 821, 3436, 11, 262, 4534, 318, 6228, 11, 290, 262, 4171, 6766, 18105, 262, 17810, 13, 10148, 4518, 20611, 422, 262, 2323, 11, 610, 2259, 16965, 13, 7559, 383, 4252, 3568, 11, 7009, 287, 262, 6766, 13, 10148, 1318, 338, 257, 6016, 1657, 11, 24823, 13092, 9082, 2157, 502, 13, 7559, 1867, 3124, 318, 340, 30, 10148, 220, 198, 220, 198, 7559, 12550, 13, 10148, 632, 20246, 523, 35254, 11, 266, 8040, 711, 2759, 13, 220, 198, 220, 198, 7559, 4599, 13, 10148, 1375, 300, 3378, 607, 442, 6320, 11914, 11, 262, 2128, 1233, 24707, 616, 7009, 4252, 338, 1657, 13, 7559, 6803, 4058, 286, 345, 13, 1318, 338, 257, 15900, 13, 10148, 13742, 2705, 290, 866, 88, 11569, 364, 1973, 262, 4077, 11, 663, 9082, 20880, 1290, 3675, 262, 17810, 13, 7559, 1867, 3124, 318, 340, 30, 10148, 220, 198, 220, 198, 2011, 4772, 82, 1126, 589, 13, 7559, 28574, 12, 10148, 220, 198, 220, 198, 7559, 1867, 3124, 318, 340, 30, 10148, 220, 198, 220, 198, 383, 4077, 2082, 690, 13, 347, 7252, 275, 7252, 2042, 15900, 11, 423, 345, 597, 25749, 30, 7559, 28574, 13, 10148, 5335, 550, 257, 1310, 19343, 11, 663, 11562, 344, 355, 2330, 355, 6729, 13, 7559, 21039, 13, 10148, 383, 15900, 2082, 690, 11, 15985, 26080, 15852, 422, 3223, 284, 6016, 355, 663, 16187, 3520, 287, 2584, 13, 220, 198, 220, 198, 7559, 1867, 3124, 318, 262, 15900, 11, 12707, 30, 10148, 220, 198, 220, 198, 2619, 290, 2330, 3234, 1973, 866, 88, 781, 1648, 11, 530, 706, 262, 584, 11, 757, 290, 757, 13, 7559, 21039, 13, 10148, 314, 766, 262, 2042, 15900, 11, 34863, 656, 663, 9082, 13, 7559, 21039, 13, 10148, 554, 262, 976, 21019, 286, 281, 4151, 11, 326, 15900, 318, 2330, 290, 49754, 1028, 262, 3326, 67, 415, 8701, 13, 383, 3381, 3326, 67, 415, 8991, 994, 780, 314, 1101, 287, 262, 25708, 11, 345, 766, 13, 50256, 50256, 50256, 50256, 50256, 50256, 50256, 50256, 50256, 50256, 50256, 50256, 50256, 50256, 50256, 50256, 50256, 50256, 50256, 50256, 50256, 50256, 50256, 50256, 50256, 50256, 50256, 50256, 50256, 50256, 50256, 50256, 50256, 50256, 50256, 50256, 50256, 50256, 50256, 50256, 50256, 50256, 50256, 50256, 50256, 50256, 50256, 50256, 50256, 50256, 50256, 50256, 50256, 50256, 50256, 50256, 50256, 50256, 50256, 50256, 50256, 50256, 50256, 50256, 50256, 50256, 50256, 50256, 50256, 50256, 50256, 50256, 50256, 50256, 50256, 50256, 50256, 50256, 50256, 50256, 50256, 50256, 50256, 50256, 50256, 50256, 50256, 50256, 50256, 50256, 50256, 50256, 50256, 50256, 50256, 50256, 50256, 50256, 50256, 50256, 50256, 50256, 50256, 50256, 50256, 50256, 50256, 50256, 50256, 50256, 50256, 50256, 50256, 50256, 50256, 50256, 50256, 50256, 50256, 50256, 50256, 50256, 50256, 50256, 50256, 50256, 50256, 50256, 50256]\n",
            "[1, 1, 1, 1, 1, 1, 1, 1, 1, 1, 1, 1, 1, 1, 1, 1, 1, 1, 1, 1, 1, 1, 1, 1, 1, 1, 1, 1, 1, 1, 1, 1, 1, 1, 1, 1, 1, 1, 1, 1, 1, 1, 1, 1, 1, 1, 1, 1, 1, 1, 1, 1, 1, 1, 1, 1, 1, 1, 1, 1, 1, 1, 1, 1, 1, 1, 1, 1, 1, 1, 1, 1, 1, 1, 1, 1, 1, 1, 1, 1, 1, 1, 1, 1, 1, 1, 1, 1, 1, 1, 1, 1, 1, 1, 1, 1, 1, 1, 1, 1, 1, 1, 1, 1, 1, 1, 1, 1, 1, 1, 1, 1, 1, 1, 1, 1, 1, 1, 1, 1, 1, 1, 1, 1, 1, 1, 1, 1, 1, 1, 1, 1, 1, 1, 1, 1, 1, 1, 1, 1, 1, 1, 1, 1, 1, 1, 1, 1, 1, 1, 1, 1, 1, 1, 1, 1, 1, 1, 1, 1, 1, 1, 1, 1, 1, 1, 1, 1, 1, 1, 1, 1, 1, 1, 1, 1, 1, 1, 1, 1, 1, 1, 1, 1, 1, 1, 1, 1, 1, 1, 1, 1, 1, 1, 1, 1, 1, 1, 1, 1, 1, 1, 1, 1, 1, 1, 1, 1, 1, 1, 1, 1, 1, 1, 1, 1, 1, 1, 1, 1, 1, 1, 1, 1, 1, 1, 1, 1, 1, 1, 1, 1, 1, 1, 1, 1, 1, 1, 1, 1, 1, 1, 1, 1, 1, 1, 1, 1, 1, 1, 1, 1, 1, 1, 1, 1, 1, 1, 1, 1, 1, 1, 1, 1, 1, 1, 1, 1, 1, 1, 1, 1, 1, 1, 1, 1, 1, 1, 1, 1, 1, 1, 1, 1, 1, 1, 1, 1, 1, 1, 1, 1, 1, 1, 1, 1, 1, 1, 1, 1, 1, 1, 1, 1, 1, 1, 1, 1, 1, 1, 1, 1, 1, 1, 1, 1, 1, 1, 1, 1, 1, 1, 1, 1, 1, 1, 1, 1, 1, 1, 1, 1, 1, 1, 1, 1, 1, 1, 1, 1, 1, 1, 1, 1, 1, 1, 1, 1, 1, 1, 1, 1, 1, 1, 1, 1, 1, 1, 1, 1, 1, 1, 1, 1, 1, 1, 1, 1, 1, 1, 1, 1, 1, 1, 1, 1, 1, 1, 1, 1, 1, 1, 1, 0, 0, 0, 0, 0, 0, 0, 0, 0, 0, 0, 0, 0, 0, 0, 0, 0, 0, 0, 0, 0, 0, 0, 0, 0, 0, 0, 0, 0, 0, 0, 0, 0, 0, 0, 0, 0, 0, 0, 0, 0, 0, 0, 0, 0, 0, 0, 0, 0, 0, 0, 0, 0, 0, 0, 0, 0, 0, 0, 0, 0, 0, 0, 0, 0, 0, 0, 0, 0, 0, 0, 0, 0, 0, 0, 0, 0, 0, 0, 0, 0, 0, 0, 0, 0, 0, 0, 0, 0, 0, 0, 0, 0, 0, 0, 0, 0, 0, 0, 0, 0, 0, 0, 0, 0, 0, 0, 0, 0, 0, 0, 0, 0, 0, 0, 0, 0, 0, 0, 0, 0, 0, 0, 0, 0, 0, 0, 0, 0]\n",
            "[58, 28993, 2361, 11075, 287, 262, 995, 468, 5536, 351, 2972, 2974, 286, 30677, 625, 340, 13, 921, 389, 4457, 3665, 351, 2048, 645, 1630, 523, 345, 1064, 257, 3222, 326, 338, 845, 4939, 475, 4457, 922, 379, 12755, 465, 5635, 13, 1279, 325, 79, 29, 7559, 18450, 345, 821, 287, 257, 2214, 13, 10148, 3469, 14582, 287, 477, 11678, 13, 7559, 921, 821, 3436, 11, 262, 4534, 318, 6228, 11, 290, 262, 4171, 6766, 18105, 262, 17810, 13, 10148, 4518, 20611, 422, 262, 2323, 11, 610, 2259, 16965, 13, 7559, 383, 4252, 3568, 11, 7009, 287, 262, 6766, 13, 10148, 1318, 338, 257, 6016, 1657, 11, 24823, 13092, 9082, 2157, 502, 13, 7559, 1867, 3124, 318, 340, 30, 10148, 220, 198, 220, 198, 7559, 12550, 13, 10148, 632, 20246, 523, 35254, 11, 266, 8040, 711, 2759, 13, 220, 198, 220, 198, 7559, 4599, 13, 10148, 1375, 300, 3378, 607, 442, 6320, 11914, 11, 262, 2128, 1233, 24707, 616, 7009, 4252, 338, 1657, 13, 7559, 6803, 4058, 286, 345, 13, 1318, 338, 257, 15900, 13, 10148, 13742, 2705, 290, 866, 88, 11569, 364, 1973, 262, 4077, 11, 663, 9082, 20880, 1290, 3675, 262, 17810, 13, 7559, 1867, 3124, 318, 340, 30, 10148, 220, 198, 220, 198, 2011, 4772, 82, 1126, 589, 13, 7559, 28574, 12, 10148, 220, 198, 220, 198, 7559, 1867, 3124, 318, 340, 30, 10148, 220, 198, 220, 198, 383, 4077, 2082, 690, 13, 347, 7252, 275, 7252, 2042, 15900, 11, 423, 345, 597, 25749, 30, 7559, 28574, 13, 10148, 5335, 550, 257, 1310, 19343, 11, 663, 11562, 344, 355, 2330, 355, 6729, 13, 7559, 21039, 13, 10148, 383, 15900, 2082, 690, 11, 15985, 26080, 15852, 422, 3223, 284, 6016, 355, 663, 16187, 3520, 287, 2584, 13, 220, 198, 220, 198, 7559, 1867, 3124, 318, 262, 15900, 11, 12707, 30, 10148, 220, 198, 220, 198, 2619, 290, 2330, 3234, 1973, 866, 88, 781, 1648, 11, 530, 706, 262, 584, 11, 757, 290, 757, 13, 7559, 21039, 13, 10148, 314, 766, 262, 2042, 15900, 11, 34863, 656, 663, 9082, 13, 7559, 21039, 13, 10148, 554, 262, 976, 21019, 286, 281, 4151, 11, 326, 15900, 318, 2330, 290, 49754, 1028, 262, 3326, 67, 415, 8701, 13, 383, 3381, 3326, 67, 415, 8991, 994, 780, 314, 1101, 287, 262, 25708, 11, 345, 766, 13, -100, -100, -100, -100, -100, -100, -100, -100, -100, -100, -100, -100, -100, -100, -100, -100, -100, -100, -100, -100, -100, -100, -100, -100, -100, -100, -100, -100, -100, -100, -100, -100, -100, -100, -100, -100, -100, -100, -100, -100, -100, -100, -100, -100, -100, -100, -100, -100, -100, -100, -100, -100, -100, -100, -100, -100, -100, -100, -100, -100, -100, -100, -100, -100, -100, -100, -100, -100, -100, -100, -100, -100, -100, -100, -100, -100, -100, -100, -100, -100, -100, -100, -100, -100, -100, -100, -100, -100, -100, -100, -100, -100, -100, -100, -100, -100, -100, -100, -100, -100, -100, -100, -100, -100, -100, -100, -100, -100, -100, -100, -100, -100, -100, -100, -100, -100, -100, -100, -100, -100, -100, -100, -100, -100, -100, -100, -100, -100, -100]\n"
          ]
        }
      ],
      "source": [
        "print(inputs_train['input_ids'][6])\n",
        "print(inputs_train['attention_mask'][6])\n",
        "print(inputs_train['labels'][6])\n"
      ]
    },
    {
      "cell_type": "code",
      "execution_count": null,
      "metadata": {
        "execution": {
          "iopub.execute_input": "2020-08-12T19:43:55.391147Z",
          "iopub.status.busy": "2020-08-12T19:43:55.390279Z",
          "iopub.status.idle": "2020-08-12T19:43:55.393023Z",
          "shell.execute_reply": "2020-08-12T19:43:55.393640Z"
        },
        "id": "qMN4ZS1x4Sz5",
        "papermill": {
          "duration": 0.026643,
          "end_time": "2020-08-12T19:43:55.393767",
          "exception": false,
          "start_time": "2020-08-12T19:43:55.367124",
          "status": "completed"
        },
        "tags": []
      },
      "outputs": [],
      "source": [
        "class StoryDataset:\n",
        "    def __init__(self, inputs):\n",
        "        self.ids = inputs['input_ids']\n",
        "        self.attention_mask = inputs['attention_mask']\n",
        "        self.labels=inputs['labels']\n",
        "\n",
        "    def __len__(self):\n",
        "        return len(self.ids)\n",
        "\n",
        "    def __getitem__(self, item):\n",
        "\n",
        "        return [torch.tensor(self.ids[item], dtype=torch.long),\n",
        "                torch.tensor(self.attention_mask[item], dtype=torch.long),\n",
        "                torch.tensor(self.labels[item], dtype=torch.long)]\n"
      ]
    },
    {
      "cell_type": "code",
      "execution_count": null,
      "metadata": {
        "execution": {
          "iopub.execute_input": "2020-08-12T19:43:55.450008Z",
          "iopub.status.busy": "2020-08-12T19:43:55.449071Z",
          "iopub.status.idle": "2020-08-12T19:43:55.450826Z",
          "shell.execute_reply": "2020-08-12T19:43:55.451425Z"
        },
        "id": "xzS2kP2_4Sz6",
        "papermill": {
          "duration": 0.042459,
          "end_time": "2020-08-12T19:43:55.451607",
          "exception": false,
          "start_time": "2020-08-12T19:43:55.409148",
          "status": "completed"
        },
        "tags": []
      },
      "outputs": [],
      "source": [
        "train_batch_size=args.train_batch_size\n",
        "valid_batch_size=args.valid_batch_size\n",
        "traindata=StoryDataset(inputs_train)\n",
        "train_dataloader = torch.utils.data.DataLoader(\n",
        "    traindata,\n",
        "    shuffle=False,\n",
        "    batch_size=train_batch_size)\n",
        "\n",
        "validdata=StoryDataset(inputs_valid)\n",
        "valid_dataloader = torch.utils.data.DataLoader(\n",
        "    validdata,\n",
        "    shuffle=False,\n",
        "    batch_size=valid_batch_size)"
      ]
    },
    {
      "cell_type": "markdown",
      "metadata": {
        "id": "S9RqaJ_y4Sz6",
        "papermill": {
          "duration": 0.01544,
          "end_time": "2020-08-12T19:43:55.485491",
          "exception": false,
          "start_time": "2020-08-12T19:43:55.470051",
          "status": "completed"
        },
        "tags": []
      },
      "source": [
        "#  Model and optimizer\n",
        "\n",
        "\n",
        "With the amazing transfomers pacakge, we can easily download the pretrained GPT-2 model. **Before fine-tuning the model, I evaluate the model with valid dataset, and the average perplexity of evaluate results is 39**. Let's see what is the score of perplexity after fine-tuning later."
      ]
    },
    {
      "cell_type": "code",
      "execution_count": null,
      "metadata": {
        "colab": {
          "base_uri": "https://localhost:8080/",
          "height": 81,
          "referenced_widgets": [
            "6ae927dc276449cb991791feb4993e81",
            "e2100f8971da49f697da66d99b04b5be",
            "f5a57a81c5c8492da4875fd7bc19fd91",
            "d9f9f0c92fd647ff8ebec17c39e90a11",
            "0216fbdbee33429c97600bd7fe0b93cd",
            "fb642545a3574eabbd4777749a3cb241",
            "49440756c32a4e08b4560430c103190e",
            "8832bdccec0b4d4ba38453f355d33cf9",
            "c7632e26bb0e4cd1b0d18dc59857cb62",
            "adcad8fdbab844848f957883ed5c6dc8",
            "4af6d3936ad44b28906cbe3f45f6c133",
            "331207d144d240de8ebd01645a12884f",
            "a4763600cba84e56bde830419ec736ac",
            "886dadacc5894732abe2b524c02f68f5",
            "61c72d0b228b418b90dedac9016ef9c3",
            "5c9e6dd482d44a6089364d2202682b83",
            "6ff257d32d3349bcad960a25d6c4a17a",
            "a6485256881f476e906ce240e9c97cec",
            "c2b1a278beb54a1b98bc50631c0975e0",
            "a245ebf24b4a4ce7ac5378213eff7aa2",
            "1056256e793b428489d83f01aa738661",
            "b419ce89b70f4449ba34561fd06e3a43"
          ]
        },
        "execution": {
          "iopub.execute_input": "2020-08-12T19:43:55.522382Z",
          "iopub.status.busy": "2020-08-12T19:43:55.521323Z",
          "iopub.status.idle": "2020-08-12T19:44:29.150782Z",
          "shell.execute_reply": "2020-08-12T19:44:29.151380Z"
        },
        "id": "IFhldkbR4Sz7",
        "outputId": "a6bf46a0-f4c5-4a6c-9a38-939c050d2f2a",
        "papermill": {
          "duration": 33.650543,
          "end_time": "2020-08-12T19:44:29.151556",
          "exception": false,
          "start_time": "2020-08-12T19:43:55.501013",
          "status": "completed"
        },
        "tags": []
      },
      "outputs": [
        {
          "data": {
            "application/vnd.jupyter.widget-view+json": {
              "model_id": "6ae927dc276449cb991791feb4993e81",
              "version_major": 2,
              "version_minor": 0
            },
            "text/plain": [
              "Downloading model.safetensors:   0%|          | 0.00/548M [00:00<?, ?B/s]"
            ]
          },
          "metadata": {},
          "output_type": "display_data"
        },
        {
          "data": {
            "application/vnd.jupyter.widget-view+json": {
              "model_id": "331207d144d240de8ebd01645a12884f",
              "version_major": 2,
              "version_minor": 0
            },
            "text/plain": [
              "Downloading (…)neration_config.json:   0%|          | 0.00/124 [00:00<?, ?B/s]"
            ]
          },
          "metadata": {},
          "output_type": "display_data"
        }
      ],
      "source": [
        "model = GPT2LMHeadModel.from_pretrained('gpt2')"
      ]
    },
    {
      "cell_type": "code",
      "execution_count": null,
      "metadata": {
        "colab": {
          "base_uri": "https://localhost:8080/"
        },
        "execution": {
          "iopub.execute_input": "2020-08-12T19:44:29.553761Z",
          "iopub.status.busy": "2020-08-12T19:44:29.195731Z",
          "iopub.status.idle": "2020-08-12T19:51:33.471281Z",
          "shell.execute_reply": "2020-08-12T19:51:33.470576Z"
        },
        "id": "Yj3sGDns4Sz7",
        "outputId": "d1996d92-c991-4ba2-b092-22c668e5d3b9",
        "papermill": {
          "duration": 424.30272,
          "end_time": "2020-08-12T19:51:33.471418",
          "exception": false,
          "start_time": "2020-08-12T19:44:29.168698",
          "status": "completed"
        },
        "tags": []
      },
      "outputs": [
        {
          "name": "stderr",
          "output_type": "stream",
          "text": [
            "eval: 100%|██████████| 3785/3785 [12:35<00:00,  5.01it/s]"
          ]
        },
        {
          "name": "stdout",
          "output_type": "stream",
          "text": [
            "The average perplexity for valid dataset before fine-tuning is 39.27880379562042\n"
          ]
        },
        {
          "name": "stderr",
          "output_type": "stream",
          "text": [
            "\n"
          ]
        }
      ],
      "source": [
        "model.to('cuda')\n",
        "model.eval()\n",
        "eval_loss=[]\n",
        "for inputs in tqdm(valid_dataloader, desc=\"eval\"):\n",
        "    d1,d2,d3=inputs\n",
        "    d1=d1.to('cuda')\n",
        "    d2=d2.to('cuda')\n",
        "    d3=d3.to('cuda')\n",
        "\n",
        "    with torch.no_grad():\n",
        "        output = model(input_ids=d1, attention_mask=d2,labels=d3)\n",
        "        batch_loss=output[0]\n",
        "    eval_loss+=[batch_loss.cpu().item()]\n",
        "    del batch_loss\n",
        "eval_loss=np.mean(eval_loss)\n",
        "perplexity=math.exp(eval_loss)\n",
        "print(f'The average perplexity for valid dataset before fine-tuning is {perplexity}')"
      ]
    },
    {
      "cell_type": "markdown",
      "metadata": {
        "id": "qEeL6NsD4Sz8",
        "papermill": {
          "duration": 0.213909,
          "end_time": "2020-08-12T19:51:33.935820",
          "exception": false,
          "start_time": "2020-08-12T19:51:33.721911",
          "status": "completed"
        },
        "tags": []
      },
      "source": [
        "Let's pick a prompt from the valid dataset and input it into the model, have the model generate a 300 words long story. I use the generate method comes with the model. The method currently supports greedy decoding, beam-search decoding, sampling with temperature, sampling with top-k or nucleus sampling. The meanings of key arguments are below:<br>\n",
        "1)**do_sample**: if set to False greedy decoding is used.<br>\n",
        "2)The **temperature** is used to module the next token probabilities.<br>\n",
        "3)**top_k** is the number of highest probability vocabulary tokens to keep for top-k-filtering.<br>\n",
        "4)**top_p** is the cumulative probability of parameter highest probability vocabulary tokens to keep for nucleus sampling. <br>5)**repetition_penalty** is the parameter for repetition penalty. Between 1.0 and infinity. 1.0 means no penalty.<br>"
      ]
    },
    {
      "cell_type": "code",
      "execution_count": null,
      "metadata": {
        "colab": {
          "base_uri": "https://localhost:8080/"
        },
        "execution": {
          "iopub.execute_input": "2020-08-12T19:51:34.388812Z",
          "iopub.status.busy": "2020-08-12T19:51:34.387856Z",
          "iopub.status.idle": "2020-08-12T19:52:07.061950Z",
          "shell.execute_reply": "2020-08-12T19:52:07.062759Z"
        },
        "id": "S0QMTYTC4Sz8",
        "outputId": "ce00f00d-f92c-43bc-fc5a-075c674f04d1",
        "papermill": {
          "duration": 32.905456,
          "end_time": "2020-08-12T19:52:07.062960",
          "exception": false,
          "start_time": "2020-08-12T19:51:34.157504",
          "status": "completed"
        },
        "tags": []
      },
      "outputs": [
        {
          "name": "stdout",
          "output_type": "stream",
          "text": [
            "====prompt====\n",
            "\n",
            "Children's logic dictates the way the world works. [ WP ] \n",
            "\n",
            "====target story is as below===\n",
            "\n",
            " “ That ’ s not an option I ’ m currently willing to exercise. ” \n",
            " \n",
            " I pinch the bridge of my nose to stave off the headache building behind my eyes. If this goes on much longer, I ’ m gon na have to start to start cutting back on the vegetables. \n",
            " \n",
            " “ She ’ s dangerous, Jimmy. You know that. You ’ ve seen it. Dealt with it first hand. She just doesn ’ t play by anyone ’ s rules. ” \n",
            " \n",
            " Ali finished off her sucker and unwrapped a fresh one, offering it to me. I declined. I ’ d sworn off the things after my third cavity scare. That one saw me at the dentist for the third time in as many months. I don ’ t care what my dad says, I know that guy is evil. Who owns a drill like that? A murderer, that ’ s who. I still hear the damn thing in my nightmares. \n",
            " \n",
            " While she savored the smooth flavor of blue-raspberry, I pondered her words. We both knew she was right. The situation was spiralling out of control. The details of our latest reports flooded my mind, even as I sing songed a few La-La ’ s to block them out. \n",
            " \n",
            " Our perp is a wildcard and damn near untraceable. Hide and seek skills like none I ’ ve ever seen. In another life she might have made the perfect detective, but as it was, no one could trust her as far as they could throw her, and she always went\n",
            "\n"
          ]
        },
        {
          "name": "stderr",
          "output_type": "stream",
          "text": [
            "The attention mask and the pad token id were not set. As a consequence, you may observe unexpected behavior. Please pass your input's `attention_mask` to obtain reliable results.\n",
            "Setting `pad_token_id` to `eos_token_id`:50256 for open-end generation.\n"
          ]
        },
        {
          "name": "stdout",
          "output_type": "stream",
          "text": [
            "=== GENERATED SEQUENCE 1 ===\n",
            "Children's logic dictates the way the world works. [ WP ]  \"Buying actual education is all you need to make sure you're not feeding the world's poor\" \"As long as you live inside it, you're still smart and might end up with real people. So, right now, however you decide to spend your living time, you're going to be all you're ever going to want to be.\" Whether or not we're telling your ignorance lies, we have a distorted understanding of it. It takes some persuading and sanity to convince our magical naughtiness that people like us are special people who want to \"learn.\"\n",
            "School: Learn to value things in education, not in spending it. With money, rather than playing a role in your life, the best time for you to invest in an education is when the kids are already hooked on reading and doing their own thing and their own homework, not when you think you're just lying to them. As like after a wedding the boys that end up in the middle of it try to learn, and not give up, because if they don't give it back then it's just one more hook in the belly of society that they have to be held accountable for. People who continually sit back and consider their abilities to succeed and stop practicing them are wasting our time. They can't think of the way to accomplish such things; if they need help of any kind, they may be back down and they'll stil\n",
            "=== GENERATED SEQUENCE 2 ===\n",
            "Children's logic dictates the way the world works. [ WP ]  The Blue Whale is a storm baby to try and deflect (via gravity) the four infamous neon twins from Rome.\n",
            "What's the catch? How are babies born when they fall from the sky? The best conclusion we can come up with is that people often state that babies don't have to philosophical extremes or magical gates because of'momentum'. Of course this is nonsense as infants are made from death but it's also never quite been that obvious. If they thought they were at the mercy of a film and thought the baby was simply a roundworm that got pummeled, only to find they are actually considered to be fully constructed beings made of crustaceans and insects. It's good to be smarter. It's necessary that we develop logic to craft a challenge that fits in with what a civilized society needs to do. Creating a challenge that fits in with what a civilized society needs to do. For instance with a baby Jekyll and Hyde, we're allowed to dictate to these monstrous creatures our awareness so that the filmmakers can focus on the epic yet beautifulTelesteemed Princess takes on a similar challenge with her new sprightly daughter,I presume because it gives us a mature answer to how society works that even being out of touch with the living is not going to be a major barrier for the giddy youngsters of the world. There are implications with painting and the general complacency of th\n",
            "=== GENERATED SEQUENCE 3 ===\n",
            "Children's logic dictates the way the world works. [ WP ]  Everyone feels there is some level of hierarchy based on what everyone is. The community can only be enlightened if they affirm some kind of hierarchy. \"  Especially on a sexual scale \". \"  They literally say the time has come for all to accept the above logic, and people should wake up and realize that having the most power means more power . \"  Because their lives are precarious and often fall apart based on things not being \"normal\" and things becoming predictable.\n"
          ]
        }
      ],
      "source": [
        "prompt=valid_text[300][:valid_text[300].find('<sep>')]\n",
        "target=valid_text[300][valid_text[300].find('<sep>')+5:]\n",
        "\n",
        "def generate_story(prompt,target,k=0,p=0.9,output_length=300,temperature=1,num_return_sequences=3,repetition_penalty=1.0):\n",
        "    print(\"====prompt====\\n\")\n",
        "    print(prompt+\"\\n\")\n",
        "    print('====target story is as below===\\n')\n",
        "    print(target+\"\\n\")\n",
        "    encoded_prompt = tokenizer.encode(prompt, add_special_tokens=False, return_tensors=\"pt\")\n",
        "    model.to('cpu')\n",
        "    model.eval()\n",
        "    output_sequences = model.generate(\n",
        "        input_ids=encoded_prompt,\n",
        "        max_length=output_length,\n",
        "        temperature=temperature,\n",
        "        top_k=k,\n",
        "        top_p=p,\n",
        "        repetition_penalty=repetition_penalty,\n",
        "        do_sample=True,\n",
        "        num_return_sequences=num_return_sequences\n",
        "    )\n",
        "    if len(output_sequences.shape) > 2:\n",
        "        output_sequences.squeeze_()\n",
        "    for generated_sequence_idx, generated_sequence in enumerate(output_sequences):\n",
        "        print(\"=== GENERATED SEQUENCE {} ===\".format(generated_sequence_idx + 1))\n",
        "        generated_sequence = generated_sequence.tolist()\n",
        "        # Decode text\n",
        "        text = tokenizer.decode(generated_sequence, clean_up_tokenization_spaces=True)\n",
        "        # Remove all text after eos token\n",
        "        text = text[: text.find(tokenizer.eos_token)]\n",
        "        print(text)\n",
        "\n",
        "generate_story(prompt,target)"
      ]
    },
    {
      "cell_type": "markdown",
      "metadata": {
        "id": "VsR0lVnr4Sz9",
        "papermill": {
          "duration": 0.214334,
          "end_time": "2020-08-12T19:52:07.526549",
          "exception": false,
          "start_time": "2020-08-12T19:52:07.312215",
          "status": "completed"
        },
        "tags": []
      },
      "source": [
        "##  Fine-tune the model\n",
        "\n",
        "**After 1 epoche learning, the perplexity for valid dataset is about 24**, which is better than the score before fine- tuning."
      ]
    },
    {
      "cell_type": "code",
      "execution_count": null,
      "metadata": {
        "colab": {
          "base_uri": "https://localhost:8080/"
        },
        "execution": {
          "iopub.execute_input": "2020-08-12T19:52:07.987982Z",
          "iopub.status.busy": "2020-08-12T19:52:07.986717Z",
          "iopub.status.idle": "2020-08-12T19:52:07.989927Z",
          "shell.execute_reply": "2020-08-12T19:52:07.990530Z"
        },
        "id": "aM4Rrwx64Sz-",
        "outputId": "d6ef9a8f-b2b8-4475-9b55-ec41f0c83a8e",
        "papermill": {
          "duration": 0.251407,
          "end_time": "2020-08-12T19:52:07.990688",
          "exception": false,
          "start_time": "2020-08-12T19:52:07.739281",
          "status": "completed"
        },
        "tags": []
      },
      "outputs": [
        {
          "name": "stderr",
          "output_type": "stream",
          "text": [
            "/usr/local/lib/python3.10/dist-packages/transformers/optimization.py:411: FutureWarning: This implementation of AdamW is deprecated and will be removed in a future version. Use the PyTorch implementation torch.optim.AdamW instead, or set `no_deprecation_warning=True` to disable this warning\n",
            "  warnings.warn(\n"
          ]
        }
      ],
      "source": [
        "num_train_epochs = args.num_train_epochs\n",
        "training_steps_per_epoch=len(train_dataloader)\n",
        "total_num_training_steps = int(training_steps_per_epoch*num_train_epochs)\n",
        "weight_decay=0\n",
        "learning_rate=args.learning_rate\n",
        "adam_epsilon=1e-8\n",
        "warmup_steps=int(total_num_training_steps*args.warmup)\n",
        "no_decay = [\"bias\", \"LayerNorm.weight\"]\n",
        "optimizer_grouped_parameters = [\n",
        "    {\n",
        "        \"params\": [p for n, p in model.named_parameters() if not any(nd in n for nd in no_decay)],\n",
        "        \"weight_decay\": weight_decay,\n",
        "    },\n",
        "    {\n",
        "        \"params\": [p for n, p in model.named_parameters() if any(nd in n for nd in no_decay)],\n",
        "        \"weight_decay\": 0.0,\n",
        "    },\n",
        "]\n",
        "optimizer = AdamW(optimizer_grouped_parameters, lr=learning_rate, eps=adam_epsilon)\n",
        "scheduler = get_linear_schedule_with_warmup(\n",
        "    optimizer, num_warmup_steps=warmup_steps, num_training_steps=total_num_training_steps\n",
        ")"
      ]
    },
    {
      "cell_type": "code",
      "execution_count": null,
      "metadata": {
        "colab": {
          "base_uri": "https://localhost:8080/"
        },
        "execution": {
          "iopub.execute_input": "2020-08-12T19:52:08.440787Z",
          "iopub.status.busy": "2020-08-12T19:52:08.439487Z",
          "iopub.status.idle": "2020-08-12T20:21:00.355320Z",
          "shell.execute_reply": "2020-08-12T20:21:00.356487Z"
        },
        "id": "jNWNW_0N4Sz-",
        "outputId": "d05111ac-7ef5-417f-cfe6-55599207248b",
        "papermill": {
          "duration": 1732.150673,
          "end_time": "2020-08-12T20:21:00.356716",
          "exception": false,
          "start_time": "2020-08-12T19:52:08.206043",
          "status": "completed"
        },
        "tags": []
      },
      "outputs": [
        {
          "name": "stdout",
          "output_type": "stream",
          "text": [
            "***** Running training *****\n",
            "  Total_num_training_step = 3905\n",
            "  Num Epochs = 1\n",
            "  Train_batch_size per device = 4\n",
            "  Valid_batch_size per device = 4\n",
            "Start epoch1 of 1\n"
          ]
        },
        {
          "name": "stderr",
          "output_type": "stream",
          "text": [
            "(batch loss=2.87234): 100%|██████████| 3905/3905 [39:20<00:00,  1.65it/s]\n"
          ]
        },
        {
          "name": "stdout",
          "output_type": "stream",
          "text": [
            "Average train loss per example=3.2845603332934705 in epoch1\n",
            "Starting evaluate after epoch 1\n"
          ]
        },
        {
          "name": "stderr",
          "output_type": "stream",
          "text": [
            "eval: 100%|██████████| 3785/3785 [12:33<00:00,  5.02it/s]"
          ]
        },
        {
          "name": "stdout",
          "output_type": "stream",
          "text": [
            "Average valid loss per example=3.1825853264631023 in epoch1\n",
            "Perplextiy for valid dataset in epoch1 is 24.109002692877556\n"
          ]
        },
        {
          "name": "stderr",
          "output_type": "stream",
          "text": [
            "\n"
          ]
        }
      ],
      "source": [
        "print(\"***** Running training *****\")\n",
        "print(\"  Total_num_training_step = {}\".format(total_num_training_steps))\n",
        "print(\"  Num Epochs = {}\".format(num_train_epochs))\n",
        "print(f\"  Train_batch_size per device = {train_batch_size}\")\n",
        "print(f\"  Valid_batch_size per device = {valid_batch_size}\")\n",
        "model.to('cuda')\n",
        "for epoch in range(num_train_epochs):\n",
        "    print(f\"Start epoch{epoch+1} of {num_train_epochs}\")\n",
        "    train_loss=0\n",
        "    epoch_iterator = tqdm(train_dataloader,desc='Iteration')\n",
        "    model.train()\n",
        "    model.zero_grad()\n",
        "    for _, inputs in enumerate(epoch_iterator):\n",
        "        d1,d2,d3=inputs\n",
        "        d1=d1.to('cuda')\n",
        "        d2=d2.to('cuda')\n",
        "        d3=d3.to('cuda')\n",
        "        output = model(input_ids=d1, attention_mask=d2,labels=d3)\n",
        "        batch_loss=output[0]\n",
        "        batch_loss.backward()\n",
        "        optimizer.step()\n",
        "        scheduler.step()\n",
        "        model.zero_grad()\n",
        "        train_loss+=batch_loss.item()\n",
        "        epoch_iterator.set_description('(batch loss=%g)' % batch_loss.item())\n",
        "        del batch_loss\n",
        "    print(f'Average train loss per example={train_loss/training_steps_per_epoch} in epoch{epoch+1}')\n",
        "    print(f'Starting evaluate after epoch {epoch+1}')\n",
        "    eval_loss=[]\n",
        "    model.eval()\n",
        "    for inputs in tqdm(valid_dataloader, desc=\"eval\"):\n",
        "        d1,d2,d3=inputs\n",
        "        d1=d1.to('cuda')\n",
        "        d2=d2.to('cuda')\n",
        "        d3=d3.to('cuda')\n",
        "        with torch.no_grad():\n",
        "            output = model(input_ids=d1, attention_mask=d2,labels=d3)\n",
        "            batch_loss=output[0]\n",
        "        eval_loss+=[batch_loss.cpu().item()]\n",
        "        del batch_loss\n",
        "    eval_loss=np.mean(eval_loss)\n",
        "    perplexity=math.exp(eval_loss)\n",
        "    print(f'Average valid loss per example={eval_loss} in epoch{epoch+1}')\n",
        "    print(f'Perplextiy for valid dataset in epoch{epoch+1} is {perplexity}')\n"
      ]
    },
    {
      "cell_type": "markdown",
      "metadata": {
        "id": "OCoRc7cc4Sz_",
        "papermill": {
          "duration": 0.895891,
          "end_time": "2020-08-12T20:21:02.147638",
          "exception": false,
          "start_time": "2020-08-12T20:21:01.251747",
          "status": "completed"
        },
        "tags": []
      },
      "source": [
        "##  Generate stories\n",
        "I use the fine-tuened model to generate stories with the same prompt I used before fine-tuning."
      ]
    },
    {
      "cell_type": "code",
      "execution_count": null,
      "metadata": {
        "colab": {
          "base_uri": "https://localhost:8080/"
        },
        "execution": {
          "iopub.execute_input": "2020-08-12T20:21:03.884424Z",
          "iopub.status.busy": "2020-08-12T20:21:03.882280Z",
          "iopub.status.idle": "2020-08-12T20:21:37.055601Z",
          "shell.execute_reply": "2020-08-12T20:21:37.056393Z"
        },
        "id": "fcNcOCC54Sz_",
        "outputId": "af4055ab-ee3b-4546-9b8d-662e8a0997a7",
        "papermill": {
          "duration": 34.019998,
          "end_time": "2020-08-12T20:21:37.056629",
          "exception": false,
          "start_time": "2020-08-12T20:21:03.036631",
          "status": "completed"
        },
        "tags": []
      },
      "outputs": [
        {
          "name": "stdout",
          "output_type": "stream",
          "text": [
            "====prompt====\n",
            "\n",
            "Children's logic dictates the way the world works. [ WP ] \n",
            "\n",
            "====target story is as below===\n",
            "\n",
            " “ That ’ s not an option I ’ m currently willing to exercise. ” \n",
            " \n",
            " I pinch the bridge of my nose to stave off the headache building behind my eyes. If this goes on much longer, I ’ m gon na have to start to start cutting back on the vegetables. \n",
            " \n",
            " “ She ’ s dangerous, Jimmy. You know that. You ’ ve seen it. Dealt with it first hand. She just doesn ’ t play by anyone ’ s rules. ” \n",
            " \n",
            " Ali finished off her sucker and unwrapped a fresh one, offering it to me. I declined. I ’ d sworn off the things after my third cavity scare. That one saw me at the dentist for the third time in as many months. I don ’ t care what my dad says, I know that guy is evil. Who owns a drill like that? A murderer, that ’ s who. I still hear the damn thing in my nightmares. \n",
            " \n",
            " While she savored the smooth flavor of blue-raspberry, I pondered her words. We both knew she was right. The situation was spiralling out of control. The details of our latest reports flooded my mind, even as I sing songed a few La-La ’ s to block them out. \n",
            " \n",
            " Our perp is a wildcard and damn near untraceable. Hide and seek skills like none I ’ ve ever seen. In another life she might have made the perfect detective, but as it was, no one could trust her as far as they could throw her, and she always went\n",
            "\n"
          ]
        },
        {
          "name": "stderr",
          "output_type": "stream",
          "text": [
            "The attention mask and the pad token id were not set. As a consequence, you may observe unexpected behavior. Please pass your input's `attention_mask` to obtain reliable results.\n",
            "Setting `pad_token_id` to `eos_token_id`:50256 for open-end generation.\n"
          ]
        },
        {
          "name": "stdout",
          "output_type": "stream",
          "text": [
            "=== GENERATED SEQUENCE 1 ===\n",
            "Children's logic dictates the way the world works. [ WP ] \n",
            " <sep> The question was obvious in my mind and I brought it upon myself at this late hour, stepping into my chair and pulling on a cotton tight t-shirt while all else in the room waited patiently. I was in a clerical job. If a world were a hundred times longer I might find it necessary. \n",
            " \n",
            " `` Great question. I wish I would know more about it, '' a woman suddenly said. A handshake laid in my direction and I caught sight of her. `` You're done with the flu, '' she chuckled. `` We should be staying here until it can be dealt with. '' \n",
            " \n",
            " `` Don't be silly! '' I snapped. The friend dismissed me by letting the chemistry between me and the others evaporate in my head. She smiled and stroked my beard and dropped my stuff onto the floor. `` Only those with the powers of magic and love could experience life without the mystical quality of miracles. '' \n",
            " \n",
            " `` Where are you going this time? '' I asked. \n",
            " \n",
            " `` We know that all our powers come from other worlds. '' \n",
            " \n",
            " `` What? '' \n",
            " \n",
            " `` It's my privilege, '' she replied with a sinking feeling in her voice, `` I am here. What are you going to do? '' \n",
            " \n",
            " `` Don't put it in my head\n",
            "=== GENERATED SEQUENCE 2 ===\n",
            "Children's logic dictates the way the world works. [ WP ] \n",
            " \n",
            " Your god grants you one year of soul searching. To become normal, you must think critically. Your application for soul searching fails, because you are not actually an artist. Your parents found out your loss, so they set you up as an artist. <sep> In the dark forests of My Children's Land, I lay once, mine still here. I watched the children try to pass down their joyous and holy memories with my parents and they called it creative. It didn't matter what it was that they was dying of old age, they all wrote for subscriber for every game released on the platform. Their state of mind prevented the game from being a success. It was of course just a game... the world felt too sterile to create. I felt as though I was being hollowed out by a merciless sea of garbage. But, on my last visit, when they arrived, the world was full of beautiful and beautiful things. Some beings shone when they had a touch of sunshine, some time they managed to find someone who was like them, a happy person who cared for them, a person who lived peaceably, someone who was very proud. They weren't just some wonderful entity, some noble and loving person, some very ugly and disgusting face, but a whole city. Or even some monsters. \n",
            " \n",
            " They spoke of kids who loved babies as much as me. I was smal\n",
            "=== GENERATED SEQUENCE 3 ===\n",
            "Children's logic dictates the way the world works. [ WP ] \n",
            " Story Summary: ``We all have our ideas on how things should work, and some have solutions. The Chinese say we should break the edict and buy ourselves a ton of money instead. Don't let their ideas fool you, we all know it'll fail. '' - Bexar ( his mother ) \n",
            " Translated from Japanese to English by our bearded old priest. [ Woof ] It's 3:18 AM on a Saturday and Ben is rushing to get the groceries. A wealthy Chinese gentleman takes a photo of his family and sends it to the bin. \n",
            " \n",
            " `` Is this the worst disaster ever? '' Ben asks. \n",
            " \n",
            " `` Yes sir, '' the man replies with a wink. `` We've lost so many Chinese. We're more determined than ever to save them. That should just be a matter of letting them pay off their debts, so I will not pick on them. '' He leaves the black economy and always wants to buy some more. \n",
            " \n",
            " '' Hey grandma it's ok, the cats love me too Ben... '' \n",
            " \n",
            " `` How are you feeling? '' \n",
            " \n",
            " `` Everything's alright, I can just leave them here so I can go away while I can afford some food for their babies and grandchildren... '' \n",
            " \n",
            " `` I've gotten hungry for a week! '' \n",
            " \n",
            " Ben hits hi\n"
          ]
        }
      ],
      "source": [
        "prompt=valid_text[300][:valid_text[300].find('<sep>')]\n",
        "target=valid_text[300][valid_text[300].find('<sep>')+5:]\n",
        "generate_story(prompt,target)"
      ]
    },
    {
      "cell_type": "markdown",
      "metadata": {},
      "source": [
        "## save model to use it later"
      ]
    },
    {
      "cell_type": "code",
      "execution_count": null,
      "metadata": {
        "colab": {
          "base_uri": "https://localhost:8080/"
        },
        "id": "X2kKhg8Z6WT_",
        "outputId": "2efd6d09-1be3-401c-aeed-9b35b3550745"
      },
      "outputs": [
        {
          "data": {
            "text/plain": [
              "('/content/drive/MyDrive/story generator/story-gen-model/tokenizer_config.json',\n",
              " '/content/drive/MyDrive/story generator/story-gen-model/special_tokens_map.json',\n",
              " '/content/drive/MyDrive/story generator/story-gen-model/vocab.json',\n",
              " '/content/drive/MyDrive/story generator/story-gen-model/merges.txt',\n",
              " '/content/drive/MyDrive/story generator/story-gen-model/added_tokens.json')"
            ]
          },
          "execution_count": 24,
          "metadata": {},
          "output_type": "execute_result"
        }
      ],
      "source": [
        "# Step 5: Save the trained model\n",
        "output_dir = \"/content/drive/MyDrive/story generator/story-gen-model\"\n",
        "\n",
        "model.save_pretrained(output_dir)\n",
        "tokenizer.save_pretrained(output_dir)\n"
      ]
    }
  ],
  "metadata": {
    "accelerator": "GPU",
    "colab": {
      "gpuType": "T4",
      "provenance": []
    },
    "kernelspec": {
      "display_name": "Python 3",
      "name": "python3"
    },
    "language_info": {
      "codemirror_mode": {
        "name": "ipython",
        "version": 3
      },
      "file_extension": ".py",
      "mimetype": "text/x-python",
      "name": "python",
      "nbconvert_exporter": "python",
      "pygments_lexer": "ipython3",
      "version": "3.7.6"
    },
    "papermill": {
      "duration": 2385.169536,
      "end_time": "2020-08-12T20:21:42.411421",
      "environment_variables": {},
      "exception": null,
      "input_path": "__notebook__.ipynb",
      "output_path": "__notebook__.ipynb",
      "parameters": {},
      "start_time": "2020-08-12T19:41:57.241885",
      "version": "2.1.0"
    },
    "widgets": {
      "application/vnd.jupyter.widget-state+json": {
        "0216fbdbee33429c97600bd7fe0b93cd": {
          "model_module": "@jupyter-widgets/base",
          "model_module_version": "1.2.0",
          "model_name": "LayoutModel",
          "state": {
            "_model_module": "@jupyter-widgets/base",
            "_model_module_version": "1.2.0",
            "_model_name": "LayoutModel",
            "_view_count": null,
            "_view_module": "@jupyter-widgets/base",
            "_view_module_version": "1.2.0",
            "_view_name": "LayoutView",
            "align_content": null,
            "align_items": null,
            "align_self": null,
            "border": null,
            "bottom": null,
            "display": null,
            "flex": null,
            "flex_flow": null,
            "grid_area": null,
            "grid_auto_columns": null,
            "grid_auto_flow": null,
            "grid_auto_rows": null,
            "grid_column": null,
            "grid_gap": null,
            "grid_row": null,
            "grid_template_areas": null,
            "grid_template_columns": null,
            "grid_template_rows": null,
            "height": null,
            "justify_content": null,
            "justify_items": null,
            "left": null,
            "margin": null,
            "max_height": null,
            "max_width": null,
            "min_height": null,
            "min_width": null,
            "object_fit": null,
            "object_position": null,
            "order": null,
            "overflow": null,
            "overflow_x": null,
            "overflow_y": null,
            "padding": null,
            "right": null,
            "top": null,
            "visibility": null,
            "width": null
          }
        },
        "091ddea7a3014b64836d34c1a6bd4482": {
          "model_module": "@jupyter-widgets/controls",
          "model_module_version": "1.5.0",
          "model_name": "ProgressStyleModel",
          "state": {
            "_model_module": "@jupyter-widgets/controls",
            "_model_module_version": "1.5.0",
            "_model_name": "ProgressStyleModel",
            "_view_count": null,
            "_view_module": "@jupyter-widgets/base",
            "_view_module_version": "1.2.0",
            "_view_name": "StyleView",
            "bar_color": null,
            "description_width": ""
          }
        },
        "1056256e793b428489d83f01aa738661": {
          "model_module": "@jupyter-widgets/base",
          "model_module_version": "1.2.0",
          "model_name": "LayoutModel",
          "state": {
            "_model_module": "@jupyter-widgets/base",
            "_model_module_version": "1.2.0",
            "_model_name": "LayoutModel",
            "_view_count": null,
            "_view_module": "@jupyter-widgets/base",
            "_view_module_version": "1.2.0",
            "_view_name": "LayoutView",
            "align_content": null,
            "align_items": null,
            "align_self": null,
            "border": null,
            "bottom": null,
            "display": null,
            "flex": null,
            "flex_flow": null,
            "grid_area": null,
            "grid_auto_columns": null,
            "grid_auto_flow": null,
            "grid_auto_rows": null,
            "grid_column": null,
            "grid_gap": null,
            "grid_row": null,
            "grid_template_areas": null,
            "grid_template_columns": null,
            "grid_template_rows": null,
            "height": null,
            "justify_content": null,
            "justify_items": null,
            "left": null,
            "margin": null,
            "max_height": null,
            "max_width": null,
            "min_height": null,
            "min_width": null,
            "object_fit": null,
            "object_position": null,
            "order": null,
            "overflow": null,
            "overflow_x": null,
            "overflow_y": null,
            "padding": null,
            "right": null,
            "top": null,
            "visibility": null,
            "width": null
          }
        },
        "1da1d69e7cec4d1e954aeac9cf6f5789": {
          "model_module": "@jupyter-widgets/controls",
          "model_module_version": "1.5.0",
          "model_name": "HTMLModel",
          "state": {
            "_dom_classes": [],
            "_model_module": "@jupyter-widgets/controls",
            "_model_module_version": "1.5.0",
            "_model_name": "HTMLModel",
            "_view_count": null,
            "_view_module": "@jupyter-widgets/controls",
            "_view_module_version": "1.5.0",
            "_view_name": "HTMLView",
            "description": "",
            "description_tooltip": null,
            "layout": "IPY_MODEL_b53f9cada6df428ea76ca4382a8976fa",
            "placeholder": "​",
            "style": "IPY_MODEL_428f8adf37324baf84802eb82bc6a41e",
            "value": " 1.04M/1.04M [00:00&lt;00:00, 14.7MB/s]"
          }
        },
        "331207d144d240de8ebd01645a12884f": {
          "model_module": "@jupyter-widgets/controls",
          "model_module_version": "1.5.0",
          "model_name": "HBoxModel",
          "state": {
            "_dom_classes": [],
            "_model_module": "@jupyter-widgets/controls",
            "_model_module_version": "1.5.0",
            "_model_name": "HBoxModel",
            "_view_count": null,
            "_view_module": "@jupyter-widgets/controls",
            "_view_module_version": "1.5.0",
            "_view_name": "HBoxView",
            "box_style": "",
            "children": [
              "IPY_MODEL_a4763600cba84e56bde830419ec736ac",
              "IPY_MODEL_886dadacc5894732abe2b524c02f68f5",
              "IPY_MODEL_61c72d0b228b418b90dedac9016ef9c3"
            ],
            "layout": "IPY_MODEL_5c9e6dd482d44a6089364d2202682b83"
          }
        },
        "35323d19c90e40aa8aedca8b38913cdc": {
          "model_module": "@jupyter-widgets/controls",
          "model_module_version": "1.5.0",
          "model_name": "HTMLModel",
          "state": {
            "_dom_classes": [],
            "_model_module": "@jupyter-widgets/controls",
            "_model_module_version": "1.5.0",
            "_model_name": "HTMLModel",
            "_view_count": null,
            "_view_module": "@jupyter-widgets/controls",
            "_view_module_version": "1.5.0",
            "_view_name": "HTMLView",
            "description": "",
            "description_tooltip": null,
            "layout": "IPY_MODEL_a1aeab8ed205430895f28473119f1aa4",
            "placeholder": "​",
            "style": "IPY_MODEL_ddbe304e934641bf9153bc75183df2b3",
            "value": "Downloading (…)olve/main/vocab.json: 100%"
          }
        },
        "3a1984a722944ae8adc6afbf0dcf7d9a": {
          "model_module": "@jupyter-widgets/controls",
          "model_module_version": "1.5.0",
          "model_name": "HBoxModel",
          "state": {
            "_dom_classes": [],
            "_model_module": "@jupyter-widgets/controls",
            "_model_module_version": "1.5.0",
            "_model_name": "HBoxModel",
            "_view_count": null,
            "_view_module": "@jupyter-widgets/controls",
            "_view_module_version": "1.5.0",
            "_view_name": "HBoxView",
            "box_style": "",
            "children": [
              "IPY_MODEL_6a1b653ec9d943f497ed8d559ac2aa16",
              "IPY_MODEL_a494928203424bb6a477b182bc3ad4d3",
              "IPY_MODEL_e9e0d13933e64262bb3b0f70d27ba2ba"
            ],
            "layout": "IPY_MODEL_cc0a052592334bb0bf8721da9d775e40"
          }
        },
        "3f942eaf7bcd4706a77975cb75574996": {
          "model_module": "@jupyter-widgets/base",
          "model_module_version": "1.2.0",
          "model_name": "LayoutModel",
          "state": {
            "_model_module": "@jupyter-widgets/base",
            "_model_module_version": "1.2.0",
            "_model_name": "LayoutModel",
            "_view_count": null,
            "_view_module": "@jupyter-widgets/base",
            "_view_module_version": "1.2.0",
            "_view_name": "LayoutView",
            "align_content": null,
            "align_items": null,
            "align_self": null,
            "border": null,
            "bottom": null,
            "display": null,
            "flex": null,
            "flex_flow": null,
            "grid_area": null,
            "grid_auto_columns": null,
            "grid_auto_flow": null,
            "grid_auto_rows": null,
            "grid_column": null,
            "grid_gap": null,
            "grid_row": null,
            "grid_template_areas": null,
            "grid_template_columns": null,
            "grid_template_rows": null,
            "height": null,
            "justify_content": null,
            "justify_items": null,
            "left": null,
            "margin": null,
            "max_height": null,
            "max_width": null,
            "min_height": null,
            "min_width": null,
            "object_fit": null,
            "object_position": null,
            "order": null,
            "overflow": null,
            "overflow_x": null,
            "overflow_y": null,
            "padding": null,
            "right": null,
            "top": null,
            "visibility": null,
            "width": null
          }
        },
        "428f8adf37324baf84802eb82bc6a41e": {
          "model_module": "@jupyter-widgets/controls",
          "model_module_version": "1.5.0",
          "model_name": "DescriptionStyleModel",
          "state": {
            "_model_module": "@jupyter-widgets/controls",
            "_model_module_version": "1.5.0",
            "_model_name": "DescriptionStyleModel",
            "_view_count": null,
            "_view_module": "@jupyter-widgets/base",
            "_view_module_version": "1.2.0",
            "_view_name": "StyleView",
            "description_width": ""
          }
        },
        "49440756c32a4e08b4560430c103190e": {
          "model_module": "@jupyter-widgets/controls",
          "model_module_version": "1.5.0",
          "model_name": "DescriptionStyleModel",
          "state": {
            "_model_module": "@jupyter-widgets/controls",
            "_model_module_version": "1.5.0",
            "_model_name": "DescriptionStyleModel",
            "_view_count": null,
            "_view_module": "@jupyter-widgets/base",
            "_view_module_version": "1.2.0",
            "_view_name": "StyleView",
            "description_width": ""
          }
        },
        "4af6d3936ad44b28906cbe3f45f6c133": {
          "model_module": "@jupyter-widgets/controls",
          "model_module_version": "1.5.0",
          "model_name": "DescriptionStyleModel",
          "state": {
            "_model_module": "@jupyter-widgets/controls",
            "_model_module_version": "1.5.0",
            "_model_name": "DescriptionStyleModel",
            "_view_count": null,
            "_view_module": "@jupyter-widgets/base",
            "_view_module_version": "1.2.0",
            "_view_name": "StyleView",
            "description_width": ""
          }
        },
        "4ed502bbd697464bbd485b657281357b": {
          "model_module": "@jupyter-widgets/base",
          "model_module_version": "1.2.0",
          "model_name": "LayoutModel",
          "state": {
            "_model_module": "@jupyter-widgets/base",
            "_model_module_version": "1.2.0",
            "_model_name": "LayoutModel",
            "_view_count": null,
            "_view_module": "@jupyter-widgets/base",
            "_view_module_version": "1.2.0",
            "_view_name": "LayoutView",
            "align_content": null,
            "align_items": null,
            "align_self": null,
            "border": null,
            "bottom": null,
            "display": null,
            "flex": null,
            "flex_flow": null,
            "grid_area": null,
            "grid_auto_columns": null,
            "grid_auto_flow": null,
            "grid_auto_rows": null,
            "grid_column": null,
            "grid_gap": null,
            "grid_row": null,
            "grid_template_areas": null,
            "grid_template_columns": null,
            "grid_template_rows": null,
            "height": null,
            "justify_content": null,
            "justify_items": null,
            "left": null,
            "margin": null,
            "max_height": null,
            "max_width": null,
            "min_height": null,
            "min_width": null,
            "object_fit": null,
            "object_position": null,
            "order": null,
            "overflow": null,
            "overflow_x": null,
            "overflow_y": null,
            "padding": null,
            "right": null,
            "top": null,
            "visibility": null,
            "width": null
          }
        },
        "5486e901d25846f1a455f885db628af2": {
          "model_module": "@jupyter-widgets/controls",
          "model_module_version": "1.5.0",
          "model_name": "HBoxModel",
          "state": {
            "_dom_classes": [],
            "_model_module": "@jupyter-widgets/controls",
            "_model_module_version": "1.5.0",
            "_model_name": "HBoxModel",
            "_view_count": null,
            "_view_module": "@jupyter-widgets/controls",
            "_view_module_version": "1.5.0",
            "_view_name": "HBoxView",
            "box_style": "",
            "children": [
              "IPY_MODEL_35323d19c90e40aa8aedca8b38913cdc",
              "IPY_MODEL_f26ec9f6c97e439db0f1a25912d8f457",
              "IPY_MODEL_1da1d69e7cec4d1e954aeac9cf6f5789"
            ],
            "layout": "IPY_MODEL_df93f861f2a64a42bb5bf09e74a53bb2"
          }
        },
        "5c9e6dd482d44a6089364d2202682b83": {
          "model_module": "@jupyter-widgets/base",
          "model_module_version": "1.2.0",
          "model_name": "LayoutModel",
          "state": {
            "_model_module": "@jupyter-widgets/base",
            "_model_module_version": "1.2.0",
            "_model_name": "LayoutModel",
            "_view_count": null,
            "_view_module": "@jupyter-widgets/base",
            "_view_module_version": "1.2.0",
            "_view_name": "LayoutView",
            "align_content": null,
            "align_items": null,
            "align_self": null,
            "border": null,
            "bottom": null,
            "display": null,
            "flex": null,
            "flex_flow": null,
            "grid_area": null,
            "grid_auto_columns": null,
            "grid_auto_flow": null,
            "grid_auto_rows": null,
            "grid_column": null,
            "grid_gap": null,
            "grid_row": null,
            "grid_template_areas": null,
            "grid_template_columns": null,
            "grid_template_rows": null,
            "height": null,
            "justify_content": null,
            "justify_items": null,
            "left": null,
            "margin": null,
            "max_height": null,
            "max_width": null,
            "min_height": null,
            "min_width": null,
            "object_fit": null,
            "object_position": null,
            "order": null,
            "overflow": null,
            "overflow_x": null,
            "overflow_y": null,
            "padding": null,
            "right": null,
            "top": null,
            "visibility": null,
            "width": null
          }
        },
        "61c72d0b228b418b90dedac9016ef9c3": {
          "model_module": "@jupyter-widgets/controls",
          "model_module_version": "1.5.0",
          "model_name": "HTMLModel",
          "state": {
            "_dom_classes": [],
            "_model_module": "@jupyter-widgets/controls",
            "_model_module_version": "1.5.0",
            "_model_name": "HTMLModel",
            "_view_count": null,
            "_view_module": "@jupyter-widgets/controls",
            "_view_module_version": "1.5.0",
            "_view_name": "HTMLView",
            "description": "",
            "description_tooltip": null,
            "layout": "IPY_MODEL_1056256e793b428489d83f01aa738661",
            "placeholder": "​",
            "style": "IPY_MODEL_b419ce89b70f4449ba34561fd06e3a43",
            "value": " 124/124 [00:00&lt;00:00, 8.70kB/s]"
          }
        },
        "6a1b653ec9d943f497ed8d559ac2aa16": {
          "model_module": "@jupyter-widgets/controls",
          "model_module_version": "1.5.0",
          "model_name": "HTMLModel",
          "state": {
            "_dom_classes": [],
            "_model_module": "@jupyter-widgets/controls",
            "_model_module_version": "1.5.0",
            "_model_name": "HTMLModel",
            "_view_count": null,
            "_view_module": "@jupyter-widgets/controls",
            "_view_module_version": "1.5.0",
            "_view_name": "HTMLView",
            "description": "",
            "description_tooltip": null,
            "layout": "IPY_MODEL_de39d1f3fb184acc9d5bda856a392699",
            "placeholder": "​",
            "style": "IPY_MODEL_9caa58eb707749c49ec7eb2e079c1ee3",
            "value": "Downloading (…)lve/main/config.json: 100%"
          }
        },
        "6ae927dc276449cb991791feb4993e81": {
          "model_module": "@jupyter-widgets/controls",
          "model_module_version": "1.5.0",
          "model_name": "HBoxModel",
          "state": {
            "_dom_classes": [],
            "_model_module": "@jupyter-widgets/controls",
            "_model_module_version": "1.5.0",
            "_model_name": "HBoxModel",
            "_view_count": null,
            "_view_module": "@jupyter-widgets/controls",
            "_view_module_version": "1.5.0",
            "_view_name": "HBoxView",
            "box_style": "",
            "children": [
              "IPY_MODEL_e2100f8971da49f697da66d99b04b5be",
              "IPY_MODEL_f5a57a81c5c8492da4875fd7bc19fd91",
              "IPY_MODEL_d9f9f0c92fd647ff8ebec17c39e90a11"
            ],
            "layout": "IPY_MODEL_0216fbdbee33429c97600bd7fe0b93cd"
          }
        },
        "6ff257d32d3349bcad960a25d6c4a17a": {
          "model_module": "@jupyter-widgets/base",
          "model_module_version": "1.2.0",
          "model_name": "LayoutModel",
          "state": {
            "_model_module": "@jupyter-widgets/base",
            "_model_module_version": "1.2.0",
            "_model_name": "LayoutModel",
            "_view_count": null,
            "_view_module": "@jupyter-widgets/base",
            "_view_module_version": "1.2.0",
            "_view_name": "LayoutView",
            "align_content": null,
            "align_items": null,
            "align_self": null,
            "border": null,
            "bottom": null,
            "display": null,
            "flex": null,
            "flex_flow": null,
            "grid_area": null,
            "grid_auto_columns": null,
            "grid_auto_flow": null,
            "grid_auto_rows": null,
            "grid_column": null,
            "grid_gap": null,
            "grid_row": null,
            "grid_template_areas": null,
            "grid_template_columns": null,
            "grid_template_rows": null,
            "height": null,
            "justify_content": null,
            "justify_items": null,
            "left": null,
            "margin": null,
            "max_height": null,
            "max_width": null,
            "min_height": null,
            "min_width": null,
            "object_fit": null,
            "object_position": null,
            "order": null,
            "overflow": null,
            "overflow_x": null,
            "overflow_y": null,
            "padding": null,
            "right": null,
            "top": null,
            "visibility": null,
            "width": null
          }
        },
        "78e9e3b3ffd0485da198c40c33e43348": {
          "model_module": "@jupyter-widgets/controls",
          "model_module_version": "1.5.0",
          "model_name": "HBoxModel",
          "state": {
            "_dom_classes": [],
            "_model_module": "@jupyter-widgets/controls",
            "_model_module_version": "1.5.0",
            "_model_name": "HBoxModel",
            "_view_count": null,
            "_view_module": "@jupyter-widgets/controls",
            "_view_module_version": "1.5.0",
            "_view_name": "HBoxView",
            "box_style": "",
            "children": [
              "IPY_MODEL_aa577a443f2f40978fda5d3291e581fe",
              "IPY_MODEL_837d873b807d472f9d1adadc3cb2079b",
              "IPY_MODEL_e5d4f48581dd4215bffea6b39d520839"
            ],
            "layout": "IPY_MODEL_c7418cd9ba4743bfb933d14e354c96e4"
          }
        },
        "7ce03ed187a547718842c07f6a1c6f32": {
          "model_module": "@jupyter-widgets/base",
          "model_module_version": "1.2.0",
          "model_name": "LayoutModel",
          "state": {
            "_model_module": "@jupyter-widgets/base",
            "_model_module_version": "1.2.0",
            "_model_name": "LayoutModel",
            "_view_count": null,
            "_view_module": "@jupyter-widgets/base",
            "_view_module_version": "1.2.0",
            "_view_name": "LayoutView",
            "align_content": null,
            "align_items": null,
            "align_self": null,
            "border": null,
            "bottom": null,
            "display": null,
            "flex": null,
            "flex_flow": null,
            "grid_area": null,
            "grid_auto_columns": null,
            "grid_auto_flow": null,
            "grid_auto_rows": null,
            "grid_column": null,
            "grid_gap": null,
            "grid_row": null,
            "grid_template_areas": null,
            "grid_template_columns": null,
            "grid_template_rows": null,
            "height": null,
            "justify_content": null,
            "justify_items": null,
            "left": null,
            "margin": null,
            "max_height": null,
            "max_width": null,
            "min_height": null,
            "min_width": null,
            "object_fit": null,
            "object_position": null,
            "order": null,
            "overflow": null,
            "overflow_x": null,
            "overflow_y": null,
            "padding": null,
            "right": null,
            "top": null,
            "visibility": null,
            "width": null
          }
        },
        "805cb4580985485db3be0f7f8be48601": {
          "model_module": "@jupyter-widgets/controls",
          "model_module_version": "1.5.0",
          "model_name": "ProgressStyleModel",
          "state": {
            "_model_module": "@jupyter-widgets/controls",
            "_model_module_version": "1.5.0",
            "_model_name": "ProgressStyleModel",
            "_view_count": null,
            "_view_module": "@jupyter-widgets/base",
            "_view_module_version": "1.2.0",
            "_view_name": "StyleView",
            "bar_color": null,
            "description_width": ""
          }
        },
        "837d873b807d472f9d1adadc3cb2079b": {
          "model_module": "@jupyter-widgets/controls",
          "model_module_version": "1.5.0",
          "model_name": "FloatProgressModel",
          "state": {
            "_dom_classes": [],
            "_model_module": "@jupyter-widgets/controls",
            "_model_module_version": "1.5.0",
            "_model_name": "FloatProgressModel",
            "_view_count": null,
            "_view_module": "@jupyter-widgets/controls",
            "_view_module_version": "1.5.0",
            "_view_name": "ProgressView",
            "bar_style": "success",
            "description": "",
            "description_tooltip": null,
            "layout": "IPY_MODEL_4ed502bbd697464bbd485b657281357b",
            "max": 456318,
            "min": 0,
            "orientation": "horizontal",
            "style": "IPY_MODEL_091ddea7a3014b64836d34c1a6bd4482",
            "value": 456318
          }
        },
        "85587337af844f6897dee144c8738915": {
          "model_module": "@jupyter-widgets/base",
          "model_module_version": "1.2.0",
          "model_name": "LayoutModel",
          "state": {
            "_model_module": "@jupyter-widgets/base",
            "_model_module_version": "1.2.0",
            "_model_name": "LayoutModel",
            "_view_count": null,
            "_view_module": "@jupyter-widgets/base",
            "_view_module_version": "1.2.0",
            "_view_name": "LayoutView",
            "align_content": null,
            "align_items": null,
            "align_self": null,
            "border": null,
            "bottom": null,
            "display": null,
            "flex": null,
            "flex_flow": null,
            "grid_area": null,
            "grid_auto_columns": null,
            "grid_auto_flow": null,
            "grid_auto_rows": null,
            "grid_column": null,
            "grid_gap": null,
            "grid_row": null,
            "grid_template_areas": null,
            "grid_template_columns": null,
            "grid_template_rows": null,
            "height": null,
            "justify_content": null,
            "justify_items": null,
            "left": null,
            "margin": null,
            "max_height": null,
            "max_width": null,
            "min_height": null,
            "min_width": null,
            "object_fit": null,
            "object_position": null,
            "order": null,
            "overflow": null,
            "overflow_x": null,
            "overflow_y": null,
            "padding": null,
            "right": null,
            "top": null,
            "visibility": null,
            "width": null
          }
        },
        "8832bdccec0b4d4ba38453f355d33cf9": {
          "model_module": "@jupyter-widgets/base",
          "model_module_version": "1.2.0",
          "model_name": "LayoutModel",
          "state": {
            "_model_module": "@jupyter-widgets/base",
            "_model_module_version": "1.2.0",
            "_model_name": "LayoutModel",
            "_view_count": null,
            "_view_module": "@jupyter-widgets/base",
            "_view_module_version": "1.2.0",
            "_view_name": "LayoutView",
            "align_content": null,
            "align_items": null,
            "align_self": null,
            "border": null,
            "bottom": null,
            "display": null,
            "flex": null,
            "flex_flow": null,
            "grid_area": null,
            "grid_auto_columns": null,
            "grid_auto_flow": null,
            "grid_auto_rows": null,
            "grid_column": null,
            "grid_gap": null,
            "grid_row": null,
            "grid_template_areas": null,
            "grid_template_columns": null,
            "grid_template_rows": null,
            "height": null,
            "justify_content": null,
            "justify_items": null,
            "left": null,
            "margin": null,
            "max_height": null,
            "max_width": null,
            "min_height": null,
            "min_width": null,
            "object_fit": null,
            "object_position": null,
            "order": null,
            "overflow": null,
            "overflow_x": null,
            "overflow_y": null,
            "padding": null,
            "right": null,
            "top": null,
            "visibility": null,
            "width": null
          }
        },
        "886dadacc5894732abe2b524c02f68f5": {
          "model_module": "@jupyter-widgets/controls",
          "model_module_version": "1.5.0",
          "model_name": "FloatProgressModel",
          "state": {
            "_dom_classes": [],
            "_model_module": "@jupyter-widgets/controls",
            "_model_module_version": "1.5.0",
            "_model_name": "FloatProgressModel",
            "_view_count": null,
            "_view_module": "@jupyter-widgets/controls",
            "_view_module_version": "1.5.0",
            "_view_name": "ProgressView",
            "bar_style": "success",
            "description": "",
            "description_tooltip": null,
            "layout": "IPY_MODEL_c2b1a278beb54a1b98bc50631c0975e0",
            "max": 124,
            "min": 0,
            "orientation": "horizontal",
            "style": "IPY_MODEL_a245ebf24b4a4ce7ac5378213eff7aa2",
            "value": 124
          }
        },
        "9caa58eb707749c49ec7eb2e079c1ee3": {
          "model_module": "@jupyter-widgets/controls",
          "model_module_version": "1.5.0",
          "model_name": "DescriptionStyleModel",
          "state": {
            "_model_module": "@jupyter-widgets/controls",
            "_model_module_version": "1.5.0",
            "_model_name": "DescriptionStyleModel",
            "_view_count": null,
            "_view_module": "@jupyter-widgets/base",
            "_view_module_version": "1.2.0",
            "_view_name": "StyleView",
            "description_width": ""
          }
        },
        "a1aeab8ed205430895f28473119f1aa4": {
          "model_module": "@jupyter-widgets/base",
          "model_module_version": "1.2.0",
          "model_name": "LayoutModel",
          "state": {
            "_model_module": "@jupyter-widgets/base",
            "_model_module_version": "1.2.0",
            "_model_name": "LayoutModel",
            "_view_count": null,
            "_view_module": "@jupyter-widgets/base",
            "_view_module_version": "1.2.0",
            "_view_name": "LayoutView",
            "align_content": null,
            "align_items": null,
            "align_self": null,
            "border": null,
            "bottom": null,
            "display": null,
            "flex": null,
            "flex_flow": null,
            "grid_area": null,
            "grid_auto_columns": null,
            "grid_auto_flow": null,
            "grid_auto_rows": null,
            "grid_column": null,
            "grid_gap": null,
            "grid_row": null,
            "grid_template_areas": null,
            "grid_template_columns": null,
            "grid_template_rows": null,
            "height": null,
            "justify_content": null,
            "justify_items": null,
            "left": null,
            "margin": null,
            "max_height": null,
            "max_width": null,
            "min_height": null,
            "min_width": null,
            "object_fit": null,
            "object_position": null,
            "order": null,
            "overflow": null,
            "overflow_x": null,
            "overflow_y": null,
            "padding": null,
            "right": null,
            "top": null,
            "visibility": null,
            "width": null
          }
        },
        "a245ebf24b4a4ce7ac5378213eff7aa2": {
          "model_module": "@jupyter-widgets/controls",
          "model_module_version": "1.5.0",
          "model_name": "ProgressStyleModel",
          "state": {
            "_model_module": "@jupyter-widgets/controls",
            "_model_module_version": "1.5.0",
            "_model_name": "ProgressStyleModel",
            "_view_count": null,
            "_view_module": "@jupyter-widgets/base",
            "_view_module_version": "1.2.0",
            "_view_name": "StyleView",
            "bar_color": null,
            "description_width": ""
          }
        },
        "a4763600cba84e56bde830419ec736ac": {
          "model_module": "@jupyter-widgets/controls",
          "model_module_version": "1.5.0",
          "model_name": "HTMLModel",
          "state": {
            "_dom_classes": [],
            "_model_module": "@jupyter-widgets/controls",
            "_model_module_version": "1.5.0",
            "_model_name": "HTMLModel",
            "_view_count": null,
            "_view_module": "@jupyter-widgets/controls",
            "_view_module_version": "1.5.0",
            "_view_name": "HTMLView",
            "description": "",
            "description_tooltip": null,
            "layout": "IPY_MODEL_6ff257d32d3349bcad960a25d6c4a17a",
            "placeholder": "​",
            "style": "IPY_MODEL_a6485256881f476e906ce240e9c97cec",
            "value": "Downloading (…)neration_config.json: 100%"
          }
        },
        "a494928203424bb6a477b182bc3ad4d3": {
          "model_module": "@jupyter-widgets/controls",
          "model_module_version": "1.5.0",
          "model_name": "FloatProgressModel",
          "state": {
            "_dom_classes": [],
            "_model_module": "@jupyter-widgets/controls",
            "_model_module_version": "1.5.0",
            "_model_name": "FloatProgressModel",
            "_view_count": null,
            "_view_module": "@jupyter-widgets/controls",
            "_view_module_version": "1.5.0",
            "_view_name": "ProgressView",
            "bar_style": "success",
            "description": "",
            "description_tooltip": null,
            "layout": "IPY_MODEL_3f942eaf7bcd4706a77975cb75574996",
            "max": 665,
            "min": 0,
            "orientation": "horizontal",
            "style": "IPY_MODEL_f48fc15ac7b34cd5a851e430ebac2213",
            "value": 665
          }
        },
        "a6485256881f476e906ce240e9c97cec": {
          "model_module": "@jupyter-widgets/controls",
          "model_module_version": "1.5.0",
          "model_name": "DescriptionStyleModel",
          "state": {
            "_model_module": "@jupyter-widgets/controls",
            "_model_module_version": "1.5.0",
            "_model_name": "DescriptionStyleModel",
            "_view_count": null,
            "_view_module": "@jupyter-widgets/base",
            "_view_module_version": "1.2.0",
            "_view_name": "StyleView",
            "description_width": ""
          }
        },
        "aa577a443f2f40978fda5d3291e581fe": {
          "model_module": "@jupyter-widgets/controls",
          "model_module_version": "1.5.0",
          "model_name": "HTMLModel",
          "state": {
            "_dom_classes": [],
            "_model_module": "@jupyter-widgets/controls",
            "_model_module_version": "1.5.0",
            "_model_name": "HTMLModel",
            "_view_count": null,
            "_view_module": "@jupyter-widgets/controls",
            "_view_module_version": "1.5.0",
            "_view_name": "HTMLView",
            "description": "",
            "description_tooltip": null,
            "layout": "IPY_MODEL_caf5c0f80a094d5cbeb8bf59cd6b47cf",
            "placeholder": "​",
            "style": "IPY_MODEL_d4828f13f2b84720bf823dc5515f9d24",
            "value": "Downloading (…)olve/main/merges.txt: 100%"
          }
        },
        "adcad8fdbab844848f957883ed5c6dc8": {
          "model_module": "@jupyter-widgets/base",
          "model_module_version": "1.2.0",
          "model_name": "LayoutModel",
          "state": {
            "_model_module": "@jupyter-widgets/base",
            "_model_module_version": "1.2.0",
            "_model_name": "LayoutModel",
            "_view_count": null,
            "_view_module": "@jupyter-widgets/base",
            "_view_module_version": "1.2.0",
            "_view_name": "LayoutView",
            "align_content": null,
            "align_items": null,
            "align_self": null,
            "border": null,
            "bottom": null,
            "display": null,
            "flex": null,
            "flex_flow": null,
            "grid_area": null,
            "grid_auto_columns": null,
            "grid_auto_flow": null,
            "grid_auto_rows": null,
            "grid_column": null,
            "grid_gap": null,
            "grid_row": null,
            "grid_template_areas": null,
            "grid_template_columns": null,
            "grid_template_rows": null,
            "height": null,
            "justify_content": null,
            "justify_items": null,
            "left": null,
            "margin": null,
            "max_height": null,
            "max_width": null,
            "min_height": null,
            "min_width": null,
            "object_fit": null,
            "object_position": null,
            "order": null,
            "overflow": null,
            "overflow_x": null,
            "overflow_y": null,
            "padding": null,
            "right": null,
            "top": null,
            "visibility": null,
            "width": null
          }
        },
        "b419ce89b70f4449ba34561fd06e3a43": {
          "model_module": "@jupyter-widgets/controls",
          "model_module_version": "1.5.0",
          "model_name": "DescriptionStyleModel",
          "state": {
            "_model_module": "@jupyter-widgets/controls",
            "_model_module_version": "1.5.0",
            "_model_name": "DescriptionStyleModel",
            "_view_count": null,
            "_view_module": "@jupyter-widgets/base",
            "_view_module_version": "1.2.0",
            "_view_name": "StyleView",
            "description_width": ""
          }
        },
        "b53f9cada6df428ea76ca4382a8976fa": {
          "model_module": "@jupyter-widgets/base",
          "model_module_version": "1.2.0",
          "model_name": "LayoutModel",
          "state": {
            "_model_module": "@jupyter-widgets/base",
            "_model_module_version": "1.2.0",
            "_model_name": "LayoutModel",
            "_view_count": null,
            "_view_module": "@jupyter-widgets/base",
            "_view_module_version": "1.2.0",
            "_view_name": "LayoutView",
            "align_content": null,
            "align_items": null,
            "align_self": null,
            "border": null,
            "bottom": null,
            "display": null,
            "flex": null,
            "flex_flow": null,
            "grid_area": null,
            "grid_auto_columns": null,
            "grid_auto_flow": null,
            "grid_auto_rows": null,
            "grid_column": null,
            "grid_gap": null,
            "grid_row": null,
            "grid_template_areas": null,
            "grid_template_columns": null,
            "grid_template_rows": null,
            "height": null,
            "justify_content": null,
            "justify_items": null,
            "left": null,
            "margin": null,
            "max_height": null,
            "max_width": null,
            "min_height": null,
            "min_width": null,
            "object_fit": null,
            "object_position": null,
            "order": null,
            "overflow": null,
            "overflow_x": null,
            "overflow_y": null,
            "padding": null,
            "right": null,
            "top": null,
            "visibility": null,
            "width": null
          }
        },
        "c2b1a278beb54a1b98bc50631c0975e0": {
          "model_module": "@jupyter-widgets/base",
          "model_module_version": "1.2.0",
          "model_name": "LayoutModel",
          "state": {
            "_model_module": "@jupyter-widgets/base",
            "_model_module_version": "1.2.0",
            "_model_name": "LayoutModel",
            "_view_count": null,
            "_view_module": "@jupyter-widgets/base",
            "_view_module_version": "1.2.0",
            "_view_name": "LayoutView",
            "align_content": null,
            "align_items": null,
            "align_self": null,
            "border": null,
            "bottom": null,
            "display": null,
            "flex": null,
            "flex_flow": null,
            "grid_area": null,
            "grid_auto_columns": null,
            "grid_auto_flow": null,
            "grid_auto_rows": null,
            "grid_column": null,
            "grid_gap": null,
            "grid_row": null,
            "grid_template_areas": null,
            "grid_template_columns": null,
            "grid_template_rows": null,
            "height": null,
            "justify_content": null,
            "justify_items": null,
            "left": null,
            "margin": null,
            "max_height": null,
            "max_width": null,
            "min_height": null,
            "min_width": null,
            "object_fit": null,
            "object_position": null,
            "order": null,
            "overflow": null,
            "overflow_x": null,
            "overflow_y": null,
            "padding": null,
            "right": null,
            "top": null,
            "visibility": null,
            "width": null
          }
        },
        "c7418cd9ba4743bfb933d14e354c96e4": {
          "model_module": "@jupyter-widgets/base",
          "model_module_version": "1.2.0",
          "model_name": "LayoutModel",
          "state": {
            "_model_module": "@jupyter-widgets/base",
            "_model_module_version": "1.2.0",
            "_model_name": "LayoutModel",
            "_view_count": null,
            "_view_module": "@jupyter-widgets/base",
            "_view_module_version": "1.2.0",
            "_view_name": "LayoutView",
            "align_content": null,
            "align_items": null,
            "align_self": null,
            "border": null,
            "bottom": null,
            "display": null,
            "flex": null,
            "flex_flow": null,
            "grid_area": null,
            "grid_auto_columns": null,
            "grid_auto_flow": null,
            "grid_auto_rows": null,
            "grid_column": null,
            "grid_gap": null,
            "grid_row": null,
            "grid_template_areas": null,
            "grid_template_columns": null,
            "grid_template_rows": null,
            "height": null,
            "justify_content": null,
            "justify_items": null,
            "left": null,
            "margin": null,
            "max_height": null,
            "max_width": null,
            "min_height": null,
            "min_width": null,
            "object_fit": null,
            "object_position": null,
            "order": null,
            "overflow": null,
            "overflow_x": null,
            "overflow_y": null,
            "padding": null,
            "right": null,
            "top": null,
            "visibility": null,
            "width": null
          }
        },
        "c7632e26bb0e4cd1b0d18dc59857cb62": {
          "model_module": "@jupyter-widgets/controls",
          "model_module_version": "1.5.0",
          "model_name": "ProgressStyleModel",
          "state": {
            "_model_module": "@jupyter-widgets/controls",
            "_model_module_version": "1.5.0",
            "_model_name": "ProgressStyleModel",
            "_view_count": null,
            "_view_module": "@jupyter-widgets/base",
            "_view_module_version": "1.2.0",
            "_view_name": "StyleView",
            "bar_color": null,
            "description_width": ""
          }
        },
        "caf5c0f80a094d5cbeb8bf59cd6b47cf": {
          "model_module": "@jupyter-widgets/base",
          "model_module_version": "1.2.0",
          "model_name": "LayoutModel",
          "state": {
            "_model_module": "@jupyter-widgets/base",
            "_model_module_version": "1.2.0",
            "_model_name": "LayoutModel",
            "_view_count": null,
            "_view_module": "@jupyter-widgets/base",
            "_view_module_version": "1.2.0",
            "_view_name": "LayoutView",
            "align_content": null,
            "align_items": null,
            "align_self": null,
            "border": null,
            "bottom": null,
            "display": null,
            "flex": null,
            "flex_flow": null,
            "grid_area": null,
            "grid_auto_columns": null,
            "grid_auto_flow": null,
            "grid_auto_rows": null,
            "grid_column": null,
            "grid_gap": null,
            "grid_row": null,
            "grid_template_areas": null,
            "grid_template_columns": null,
            "grid_template_rows": null,
            "height": null,
            "justify_content": null,
            "justify_items": null,
            "left": null,
            "margin": null,
            "max_height": null,
            "max_width": null,
            "min_height": null,
            "min_width": null,
            "object_fit": null,
            "object_position": null,
            "order": null,
            "overflow": null,
            "overflow_x": null,
            "overflow_y": null,
            "padding": null,
            "right": null,
            "top": null,
            "visibility": null,
            "width": null
          }
        },
        "cc0a052592334bb0bf8721da9d775e40": {
          "model_module": "@jupyter-widgets/base",
          "model_module_version": "1.2.0",
          "model_name": "LayoutModel",
          "state": {
            "_model_module": "@jupyter-widgets/base",
            "_model_module_version": "1.2.0",
            "_model_name": "LayoutModel",
            "_view_count": null,
            "_view_module": "@jupyter-widgets/base",
            "_view_module_version": "1.2.0",
            "_view_name": "LayoutView",
            "align_content": null,
            "align_items": null,
            "align_self": null,
            "border": null,
            "bottom": null,
            "display": null,
            "flex": null,
            "flex_flow": null,
            "grid_area": null,
            "grid_auto_columns": null,
            "grid_auto_flow": null,
            "grid_auto_rows": null,
            "grid_column": null,
            "grid_gap": null,
            "grid_row": null,
            "grid_template_areas": null,
            "grid_template_columns": null,
            "grid_template_rows": null,
            "height": null,
            "justify_content": null,
            "justify_items": null,
            "left": null,
            "margin": null,
            "max_height": null,
            "max_width": null,
            "min_height": null,
            "min_width": null,
            "object_fit": null,
            "object_position": null,
            "order": null,
            "overflow": null,
            "overflow_x": null,
            "overflow_y": null,
            "padding": null,
            "right": null,
            "top": null,
            "visibility": null,
            "width": null
          }
        },
        "d0c2c923c73440eb9a4d4a7f026855eb": {
          "model_module": "@jupyter-widgets/controls",
          "model_module_version": "1.5.0",
          "model_name": "DescriptionStyleModel",
          "state": {
            "_model_module": "@jupyter-widgets/controls",
            "_model_module_version": "1.5.0",
            "_model_name": "DescriptionStyleModel",
            "_view_count": null,
            "_view_module": "@jupyter-widgets/base",
            "_view_module_version": "1.2.0",
            "_view_name": "StyleView",
            "description_width": ""
          }
        },
        "d4828f13f2b84720bf823dc5515f9d24": {
          "model_module": "@jupyter-widgets/controls",
          "model_module_version": "1.5.0",
          "model_name": "DescriptionStyleModel",
          "state": {
            "_model_module": "@jupyter-widgets/controls",
            "_model_module_version": "1.5.0",
            "_model_name": "DescriptionStyleModel",
            "_view_count": null,
            "_view_module": "@jupyter-widgets/base",
            "_view_module_version": "1.2.0",
            "_view_name": "StyleView",
            "description_width": ""
          }
        },
        "d9f9f0c92fd647ff8ebec17c39e90a11": {
          "model_module": "@jupyter-widgets/controls",
          "model_module_version": "1.5.0",
          "model_name": "HTMLModel",
          "state": {
            "_dom_classes": [],
            "_model_module": "@jupyter-widgets/controls",
            "_model_module_version": "1.5.0",
            "_model_name": "HTMLModel",
            "_view_count": null,
            "_view_module": "@jupyter-widgets/controls",
            "_view_module_version": "1.5.0",
            "_view_name": "HTMLView",
            "description": "",
            "description_tooltip": null,
            "layout": "IPY_MODEL_adcad8fdbab844848f957883ed5c6dc8",
            "placeholder": "​",
            "style": "IPY_MODEL_4af6d3936ad44b28906cbe3f45f6c133",
            "value": " 548M/548M [00:05&lt;00:00, 67.3MB/s]"
          }
        },
        "ddbe304e934641bf9153bc75183df2b3": {
          "model_module": "@jupyter-widgets/controls",
          "model_module_version": "1.5.0",
          "model_name": "DescriptionStyleModel",
          "state": {
            "_model_module": "@jupyter-widgets/controls",
            "_model_module_version": "1.5.0",
            "_model_name": "DescriptionStyleModel",
            "_view_count": null,
            "_view_module": "@jupyter-widgets/base",
            "_view_module_version": "1.2.0",
            "_view_name": "StyleView",
            "description_width": ""
          }
        },
        "de39d1f3fb184acc9d5bda856a392699": {
          "model_module": "@jupyter-widgets/base",
          "model_module_version": "1.2.0",
          "model_name": "LayoutModel",
          "state": {
            "_model_module": "@jupyter-widgets/base",
            "_model_module_version": "1.2.0",
            "_model_name": "LayoutModel",
            "_view_count": null,
            "_view_module": "@jupyter-widgets/base",
            "_view_module_version": "1.2.0",
            "_view_name": "LayoutView",
            "align_content": null,
            "align_items": null,
            "align_self": null,
            "border": null,
            "bottom": null,
            "display": null,
            "flex": null,
            "flex_flow": null,
            "grid_area": null,
            "grid_auto_columns": null,
            "grid_auto_flow": null,
            "grid_auto_rows": null,
            "grid_column": null,
            "grid_gap": null,
            "grid_row": null,
            "grid_template_areas": null,
            "grid_template_columns": null,
            "grid_template_rows": null,
            "height": null,
            "justify_content": null,
            "justify_items": null,
            "left": null,
            "margin": null,
            "max_height": null,
            "max_width": null,
            "min_height": null,
            "min_width": null,
            "object_fit": null,
            "object_position": null,
            "order": null,
            "overflow": null,
            "overflow_x": null,
            "overflow_y": null,
            "padding": null,
            "right": null,
            "top": null,
            "visibility": null,
            "width": null
          }
        },
        "df93f861f2a64a42bb5bf09e74a53bb2": {
          "model_module": "@jupyter-widgets/base",
          "model_module_version": "1.2.0",
          "model_name": "LayoutModel",
          "state": {
            "_model_module": "@jupyter-widgets/base",
            "_model_module_version": "1.2.0",
            "_model_name": "LayoutModel",
            "_view_count": null,
            "_view_module": "@jupyter-widgets/base",
            "_view_module_version": "1.2.0",
            "_view_name": "LayoutView",
            "align_content": null,
            "align_items": null,
            "align_self": null,
            "border": null,
            "bottom": null,
            "display": null,
            "flex": null,
            "flex_flow": null,
            "grid_area": null,
            "grid_auto_columns": null,
            "grid_auto_flow": null,
            "grid_auto_rows": null,
            "grid_column": null,
            "grid_gap": null,
            "grid_row": null,
            "grid_template_areas": null,
            "grid_template_columns": null,
            "grid_template_rows": null,
            "height": null,
            "justify_content": null,
            "justify_items": null,
            "left": null,
            "margin": null,
            "max_height": null,
            "max_width": null,
            "min_height": null,
            "min_width": null,
            "object_fit": null,
            "object_position": null,
            "order": null,
            "overflow": null,
            "overflow_x": null,
            "overflow_y": null,
            "padding": null,
            "right": null,
            "top": null,
            "visibility": null,
            "width": null
          }
        },
        "e2100f8971da49f697da66d99b04b5be": {
          "model_module": "@jupyter-widgets/controls",
          "model_module_version": "1.5.0",
          "model_name": "HTMLModel",
          "state": {
            "_dom_classes": [],
            "_model_module": "@jupyter-widgets/controls",
            "_model_module_version": "1.5.0",
            "_model_name": "HTMLModel",
            "_view_count": null,
            "_view_module": "@jupyter-widgets/controls",
            "_view_module_version": "1.5.0",
            "_view_name": "HTMLView",
            "description": "",
            "description_tooltip": null,
            "layout": "IPY_MODEL_fb642545a3574eabbd4777749a3cb241",
            "placeholder": "​",
            "style": "IPY_MODEL_49440756c32a4e08b4560430c103190e",
            "value": "Downloading model.safetensors: 100%"
          }
        },
        "e5d4f48581dd4215bffea6b39d520839": {
          "model_module": "@jupyter-widgets/controls",
          "model_module_version": "1.5.0",
          "model_name": "HTMLModel",
          "state": {
            "_dom_classes": [],
            "_model_module": "@jupyter-widgets/controls",
            "_model_module_version": "1.5.0",
            "_model_name": "HTMLModel",
            "_view_count": null,
            "_view_module": "@jupyter-widgets/controls",
            "_view_module_version": "1.5.0",
            "_view_name": "HTMLView",
            "description": "",
            "description_tooltip": null,
            "layout": "IPY_MODEL_85587337af844f6897dee144c8738915",
            "placeholder": "​",
            "style": "IPY_MODEL_f6b635696ea14f6c9b619f9a86c75bc0",
            "value": " 456k/456k [00:00&lt;00:00, 20.7MB/s]"
          }
        },
        "e9e0d13933e64262bb3b0f70d27ba2ba": {
          "model_module": "@jupyter-widgets/controls",
          "model_module_version": "1.5.0",
          "model_name": "HTMLModel",
          "state": {
            "_dom_classes": [],
            "_model_module": "@jupyter-widgets/controls",
            "_model_module_version": "1.5.0",
            "_model_name": "HTMLModel",
            "_view_count": null,
            "_view_module": "@jupyter-widgets/controls",
            "_view_module_version": "1.5.0",
            "_view_name": "HTMLView",
            "description": "",
            "description_tooltip": null,
            "layout": "IPY_MODEL_ee6faffdd8bc431bacc0dba53b72e810",
            "placeholder": "​",
            "style": "IPY_MODEL_d0c2c923c73440eb9a4d4a7f026855eb",
            "value": " 665/665 [00:00&lt;00:00, 33.2kB/s]"
          }
        },
        "ee6faffdd8bc431bacc0dba53b72e810": {
          "model_module": "@jupyter-widgets/base",
          "model_module_version": "1.2.0",
          "model_name": "LayoutModel",
          "state": {
            "_model_module": "@jupyter-widgets/base",
            "_model_module_version": "1.2.0",
            "_model_name": "LayoutModel",
            "_view_count": null,
            "_view_module": "@jupyter-widgets/base",
            "_view_module_version": "1.2.0",
            "_view_name": "LayoutView",
            "align_content": null,
            "align_items": null,
            "align_self": null,
            "border": null,
            "bottom": null,
            "display": null,
            "flex": null,
            "flex_flow": null,
            "grid_area": null,
            "grid_auto_columns": null,
            "grid_auto_flow": null,
            "grid_auto_rows": null,
            "grid_column": null,
            "grid_gap": null,
            "grid_row": null,
            "grid_template_areas": null,
            "grid_template_columns": null,
            "grid_template_rows": null,
            "height": null,
            "justify_content": null,
            "justify_items": null,
            "left": null,
            "margin": null,
            "max_height": null,
            "max_width": null,
            "min_height": null,
            "min_width": null,
            "object_fit": null,
            "object_position": null,
            "order": null,
            "overflow": null,
            "overflow_x": null,
            "overflow_y": null,
            "padding": null,
            "right": null,
            "top": null,
            "visibility": null,
            "width": null
          }
        },
        "f26ec9f6c97e439db0f1a25912d8f457": {
          "model_module": "@jupyter-widgets/controls",
          "model_module_version": "1.5.0",
          "model_name": "FloatProgressModel",
          "state": {
            "_dom_classes": [],
            "_model_module": "@jupyter-widgets/controls",
            "_model_module_version": "1.5.0",
            "_model_name": "FloatProgressModel",
            "_view_count": null,
            "_view_module": "@jupyter-widgets/controls",
            "_view_module_version": "1.5.0",
            "_view_name": "ProgressView",
            "bar_style": "success",
            "description": "",
            "description_tooltip": null,
            "layout": "IPY_MODEL_7ce03ed187a547718842c07f6a1c6f32",
            "max": 1042301,
            "min": 0,
            "orientation": "horizontal",
            "style": "IPY_MODEL_805cb4580985485db3be0f7f8be48601",
            "value": 1042301
          }
        },
        "f48fc15ac7b34cd5a851e430ebac2213": {
          "model_module": "@jupyter-widgets/controls",
          "model_module_version": "1.5.0",
          "model_name": "ProgressStyleModel",
          "state": {
            "_model_module": "@jupyter-widgets/controls",
            "_model_module_version": "1.5.0",
            "_model_name": "ProgressStyleModel",
            "_view_count": null,
            "_view_module": "@jupyter-widgets/base",
            "_view_module_version": "1.2.0",
            "_view_name": "StyleView",
            "bar_color": null,
            "description_width": ""
          }
        },
        "f5a57a81c5c8492da4875fd7bc19fd91": {
          "model_module": "@jupyter-widgets/controls",
          "model_module_version": "1.5.0",
          "model_name": "FloatProgressModel",
          "state": {
            "_dom_classes": [],
            "_model_module": "@jupyter-widgets/controls",
            "_model_module_version": "1.5.0",
            "_model_name": "FloatProgressModel",
            "_view_count": null,
            "_view_module": "@jupyter-widgets/controls",
            "_view_module_version": "1.5.0",
            "_view_name": "ProgressView",
            "bar_style": "success",
            "description": "",
            "description_tooltip": null,
            "layout": "IPY_MODEL_8832bdccec0b4d4ba38453f355d33cf9",
            "max": 548105171,
            "min": 0,
            "orientation": "horizontal",
            "style": "IPY_MODEL_c7632e26bb0e4cd1b0d18dc59857cb62",
            "value": 548105171
          }
        },
        "f6b635696ea14f6c9b619f9a86c75bc0": {
          "model_module": "@jupyter-widgets/controls",
          "model_module_version": "1.5.0",
          "model_name": "DescriptionStyleModel",
          "state": {
            "_model_module": "@jupyter-widgets/controls",
            "_model_module_version": "1.5.0",
            "_model_name": "DescriptionStyleModel",
            "_view_count": null,
            "_view_module": "@jupyter-widgets/base",
            "_view_module_version": "1.2.0",
            "_view_name": "StyleView",
            "description_width": ""
          }
        },
        "fb642545a3574eabbd4777749a3cb241": {
          "model_module": "@jupyter-widgets/base",
          "model_module_version": "1.2.0",
          "model_name": "LayoutModel",
          "state": {
            "_model_module": "@jupyter-widgets/base",
            "_model_module_version": "1.2.0",
            "_model_name": "LayoutModel",
            "_view_count": null,
            "_view_module": "@jupyter-widgets/base",
            "_view_module_version": "1.2.0",
            "_view_name": "LayoutView",
            "align_content": null,
            "align_items": null,
            "align_self": null,
            "border": null,
            "bottom": null,
            "display": null,
            "flex": null,
            "flex_flow": null,
            "grid_area": null,
            "grid_auto_columns": null,
            "grid_auto_flow": null,
            "grid_auto_rows": null,
            "grid_column": null,
            "grid_gap": null,
            "grid_row": null,
            "grid_template_areas": null,
            "grid_template_columns": null,
            "grid_template_rows": null,
            "height": null,
            "justify_content": null,
            "justify_items": null,
            "left": null,
            "margin": null,
            "max_height": null,
            "max_width": null,
            "min_height": null,
            "min_width": null,
            "object_fit": null,
            "object_position": null,
            "order": null,
            "overflow": null,
            "overflow_x": null,
            "overflow_y": null,
            "padding": null,
            "right": null,
            "top": null,
            "visibility": null,
            "width": null
          }
        }
      }
    }
  },
  "nbformat": 4,
  "nbformat_minor": 0
}
